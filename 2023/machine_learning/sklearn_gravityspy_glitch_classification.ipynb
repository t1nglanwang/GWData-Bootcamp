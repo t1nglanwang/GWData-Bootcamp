{
 "cells": [
  {
   "cell_type": "markdown",
   "id": "17d57049-f41f-462f-8aaf-9c663c7884e6",
   "metadata": {},
   "source": [
    "# Gravity Spy Machine Learning Classifications of LIGO Glitches from Observing Runs O1, O2, O3a, and O3b"
   ]
  },
  {
   "cell_type": "markdown",
   "id": "2aa85c7a-1f3a-48e5-b07b-5724486f8573",
   "metadata": {},
   "source": [
    "这个数据集名为 \"Gravity Spy Machine Learning Classifications of LIGO Glitches from Observing Runs O1, O2, O3a, and O3b\"，由Glanzer等人在2021年发布 (https://zenodo.org/record/5649212)。\n",
    "\n",
    "数据集包含了LIGO观测运行O1, O2, O3a和O3b期间，Gravity Spy机器学习模型对LIGO故障的所有分类。\n",
    "\n",
    "在这个教程中，我们将使用其中的 H1_O1 和 L1_O1 数据集。这些数据集包含了Omicron触发管道识别的所有噪声事件的分类，其中Omicron识别的信噪比超过7.5，噪声事件的峰值频率在10 Hz和2048 Hz之间。\n",
    "\n",
    "每个数据集中的列包括：\n",
    "\n",
    "- Omicron 流水线的信号元数据（如event_time, ifo, peak_time, peak_time_ns, start_time, start_time_ns, duration, peak_frequency, central_freq, bandwidth, channel, amplitude, snr, q_value）。\n",
    "- 每个 glitch 在数据集中的唯一标识符（gravityspy_id）。\n",
    "- 机器学习对每个故障属于特定Gravity Spy类的置信度（如1400Ripples, 1080Lines, Air_Compressor, Blip, Chirp, Extremely_Loud, Helix, Koi_Fish, Light_Modulation, Low_Frequency_Burst, Low_Frequency_Lines, No_Glitch, None_of_the_Above, Paired_Doves, Power_Line, Repeating_Blips, Scattered_Light, Scratchy, Tomte, Violin_Mode, Wandering_Line, Whistle）。\n",
    "- 机器学习预测的每个 glitch 的标签和分类的置信度（ml_label, ml_confidence）。\n",
    "- 每个 glitch 的公开可用的 [Omega scan](https://en.wikipedia.org/wiki/Constant-Q_transform) 的链接（url1, url2, url3, url4）。\n",
    "\n",
    "我们将使用这些数据来搭建和训练分类模型。"
   ]
  },
  {
   "cell_type": "markdown",
   "id": "47b531bb-c55f-4423-84af-db2751f7229e",
   "metadata": {},
   "source": [
    "# Download data"
   ]
  },
  {
   "cell_type": "code",
   "execution_count": 1,
   "id": "a266edb5-14c2-49d9-a2da-568e4f589790",
   "metadata": {
    "tags": []
   },
   "outputs": [],
   "source": [
    "# !wget https://zenodo.org/records/5649212/files/H1_O1.csv -P data/\n",
    "# !wget https://zenodo.org/records/5649212/files/L1_O1.csv -P data/"
   ]
  },
  {
   "cell_type": "markdown",
   "id": "dc1ea4b5-cc87-4b16-a2ca-40b799d567cd",
   "metadata": {},
   "source": [
    "# Load libs"
   ]
  },
  {
   "cell_type": "code",
   "execution_count": 32,
   "id": "bb3dec0a-6d58-4645-a277-8eb5c87d210a",
   "metadata": {
    "tags": []
   },
   "outputs": [],
   "source": [
    "import numpy as np\n",
    "import pandas as pd\n",
    "import matplotlib.pyplot as plt\n",
    "from tqdm import tqdm\n",
    "\n",
    "# !pip install gwpy\n",
    "from gwpy.time import to_gps, from_gps\n",
    "\n",
    "from sklearn.preprocessing import LabelEncoder\n",
    "from sklearn.model_selection import train_test_split\n",
    "from sklearn.preprocessing import StandardScaler\n",
    "from sklearn.linear_model import LogisticRegression\n",
    "from sklearn.ensemble import RandomForestClassifier\n",
    "from sklearn.feature_selection import SelectFromModel\n",
    "from sklearn.model_selection import cross_val_score\n",
    "from sklearn.svm import SVC\n",
    "from sklearn.model_selection import GridSearchCV, ShuffleSplit, ParameterGrid, StratifiedKFold"
   ]
  },
  {
   "cell_type": "markdown",
   "id": "11acb4d7-405d-4fda-b56d-e05369642ead",
   "metadata": {},
   "source": [
    "\n",
    "# Load data"
   ]
  },
  {
   "cell_type": "code",
   "execution_count": 159,
   "id": "9383c315-198b-4f00-a429-af0ead5f9bd9",
   "metadata": {
    "tags": []
   },
   "outputs": [
    {
     "data": {
      "text/html": [
       "<div>\n",
       "<style scoped>\n",
       "    .dataframe tbody tr th:only-of-type {\n",
       "        vertical-align: middle;\n",
       "    }\n",
       "\n",
       "    .dataframe tbody tr th {\n",
       "        vertical-align: top;\n",
       "    }\n",
       "\n",
       "    .dataframe thead th {\n",
       "        text-align: right;\n",
       "    }\n",
       "</style>\n",
       "<table border=\"1\" class=\"dataframe\">\n",
       "  <thead>\n",
       "    <tr style=\"text-align: right;\">\n",
       "      <th></th>\n",
       "      <th>event_time</th>\n",
       "      <th>ifo</th>\n",
       "      <th>peak_time</th>\n",
       "      <th>peak_time_ns</th>\n",
       "      <th>start_time</th>\n",
       "      <th>start_time_ns</th>\n",
       "      <th>duration</th>\n",
       "      <th>peak_frequency</th>\n",
       "      <th>central_freq</th>\n",
       "      <th>bandwidth</th>\n",
       "      <th>snr</th>\n",
       "      <th>amplitude</th>\n",
       "      <th>ml_label</th>\n",
       "      <th>ml_confidence</th>\n",
       "    </tr>\n",
       "  </thead>\n",
       "  <tbody>\n",
       "    <tr>\n",
       "      <th>0</th>\n",
       "      <td>1.133747e+09</td>\n",
       "      <td>H1</td>\n",
       "      <td>1133747480</td>\n",
       "      <td>875000000</td>\n",
       "      <td>1133747479</td>\n",
       "      <td>625000000</td>\n",
       "      <td>3.12500</td>\n",
       "      <td>23.161011</td>\n",
       "      <td>3083.450439</td>\n",
       "      <td>6125.699219</td>\n",
       "      <td>12.31222</td>\n",
       "      <td>9.112720e-22</td>\n",
       "      <td>Scattered_Light</td>\n",
       "      <td>0.999992</td>\n",
       "    </tr>\n",
       "    <tr>\n",
       "      <th>1</th>\n",
       "      <td>1.133139e+09</td>\n",
       "      <td>H1</td>\n",
       "      <td>1133138521</td>\n",
       "      <td>980957031</td>\n",
       "      <td>1133138521</td>\n",
       "      <td>937500000</td>\n",
       "      <td>0.12500</td>\n",
       "      <td>262.064606</td>\n",
       "      <td>1576.186646</td>\n",
       "      <td>3022.359619</td>\n",
       "      <td>15.72605</td>\n",
       "      <td>2.482060e-22</td>\n",
       "      <td>Blip</td>\n",
       "      <td>0.999553</td>\n",
       "    </tr>\n",
       "    <tr>\n",
       "      <th>2</th>\n",
       "      <td>1.131777e+09</td>\n",
       "      <td>H1</td>\n",
       "      <td>1131777198</td>\n",
       "      <td>383789062</td>\n",
       "      <td>1131777196</td>\n",
       "      <td>445312023</td>\n",
       "      <td>3.05469</td>\n",
       "      <td>111.128151</td>\n",
       "      <td>281.727661</td>\n",
       "      <td>546.868347</td>\n",
       "      <td>8.31163</td>\n",
       "      <td>1.555730e-22</td>\n",
       "      <td>Blip</td>\n",
       "      <td>0.993591</td>\n",
       "    </tr>\n",
       "    <tr>\n",
       "      <th>3</th>\n",
       "      <td>1.133107e+09</td>\n",
       "      <td>H1</td>\n",
       "      <td>1133106912</td>\n",
       "      <td>958983898</td>\n",
       "      <td>1133106912</td>\n",
       "      <td>937500000</td>\n",
       "      <td>0.12500</td>\n",
       "      <td>89.676369</td>\n",
       "      <td>201.923874</td>\n",
       "      <td>319.184143</td>\n",
       "      <td>11.29298</td>\n",
       "      <td>3.454280e-22</td>\n",
       "      <td>Blip</td>\n",
       "      <td>0.998819</td>\n",
       "    </tr>\n",
       "    <tr>\n",
       "      <th>4</th>\n",
       "      <td>1.132660e+09</td>\n",
       "      <td>H1</td>\n",
       "      <td>1132659628</td>\n",
       "      <td>687500000</td>\n",
       "      <td>1132659627</td>\n",
       "      <td>500000000</td>\n",
       "      <td>2.50000</td>\n",
       "      <td>10.771410</td>\n",
       "      <td>3876.945312</td>\n",
       "      <td>7741.605469</td>\n",
       "      <td>9.74269</td>\n",
       "      <td>1.326820e-19</td>\n",
       "      <td>Low_Frequency_Lines</td>\n",
       "      <td>0.984899</td>\n",
       "    </tr>\n",
       "    <tr>\n",
       "      <th>...</th>\n",
       "      <td>...</td>\n",
       "      <td>...</td>\n",
       "      <td>...</td>\n",
       "      <td>...</td>\n",
       "      <td>...</td>\n",
       "      <td>...</td>\n",
       "      <td>...</td>\n",
       "      <td>...</td>\n",
       "      <td>...</td>\n",
       "      <td>...</td>\n",
       "      <td>...</td>\n",
       "      <td>...</td>\n",
       "      <td>...</td>\n",
       "      <td>...</td>\n",
       "    </tr>\n",
       "    <tr>\n",
       "      <th>25845</th>\n",
       "      <td>1.137220e+09</td>\n",
       "      <td>L1</td>\n",
       "      <td>1137219636</td>\n",
       "      <td>326172113</td>\n",
       "      <td>1137219636</td>\n",
       "      <td>250000000</td>\n",
       "      <td>0.10547</td>\n",
       "      <td>1527.022095</td>\n",
       "      <td>1802.779419</td>\n",
       "      <td>1581.367554</td>\n",
       "      <td>12.79415</td>\n",
       "      <td>5.758980e-22</td>\n",
       "      <td>1400Ripples</td>\n",
       "      <td>0.999278</td>\n",
       "    </tr>\n",
       "    <tr>\n",
       "      <th>25846</th>\n",
       "      <td>1.130257e+09</td>\n",
       "      <td>L1</td>\n",
       "      <td>1130256563</td>\n",
       "      <td>31250000</td>\n",
       "      <td>1130256562</td>\n",
       "      <td>875000000</td>\n",
       "      <td>0.50000</td>\n",
       "      <td>64.891693</td>\n",
       "      <td>64.202530</td>\n",
       "      <td>8.083960</td>\n",
       "      <td>8.34971</td>\n",
       "      <td>1.164350e-22</td>\n",
       "      <td>Power_Line</td>\n",
       "      <td>0.999904</td>\n",
       "    </tr>\n",
       "    <tr>\n",
       "      <th>25847</th>\n",
       "      <td>1.131414e+09</td>\n",
       "      <td>L1</td>\n",
       "      <td>1131413524</td>\n",
       "      <td>687500000</td>\n",
       "      <td>1131413524</td>\n",
       "      <td>0</td>\n",
       "      <td>1.00000</td>\n",
       "      <td>65.531433</td>\n",
       "      <td>66.881851</td>\n",
       "      <td>5.131030</td>\n",
       "      <td>7.70147</td>\n",
       "      <td>9.419780e-23</td>\n",
       "      <td>Power_Line</td>\n",
       "      <td>0.999980</td>\n",
       "    </tr>\n",
       "    <tr>\n",
       "      <th>25848</th>\n",
       "      <td>1.129983e+09</td>\n",
       "      <td>L1</td>\n",
       "      <td>1129982991</td>\n",
       "      <td>312500000</td>\n",
       "      <td>1129982988</td>\n",
       "      <td>750000000</td>\n",
       "      <td>3.50000</td>\n",
       "      <td>11.519660</td>\n",
       "      <td>3979.047363</td>\n",
       "      <td>7942.870605</td>\n",
       "      <td>14.02844</td>\n",
       "      <td>7.782930e-19</td>\n",
       "      <td>Low_Frequency_Lines</td>\n",
       "      <td>0.992579</td>\n",
       "    </tr>\n",
       "    <tr>\n",
       "      <th>25849</th>\n",
       "      <td>1.132738e+09</td>\n",
       "      <td>L1</td>\n",
       "      <td>1132737675</td>\n",
       "      <td>93750000</td>\n",
       "      <td>1132737674</td>\n",
       "      <td>750000000</td>\n",
       "      <td>0.81250</td>\n",
       "      <td>83.005531</td>\n",
       "      <td>2352.000977</td>\n",
       "      <td>4540.329102</td>\n",
       "      <td>8.13509</td>\n",
       "      <td>9.043470e-23</td>\n",
       "      <td>No_Glitch</td>\n",
       "      <td>0.986779</td>\n",
       "    </tr>\n",
       "  </tbody>\n",
       "</table>\n",
       "<p>25850 rows × 14 columns</p>\n",
       "</div>"
      ],
      "text/plain": [
       "         event_time ifo   peak_time  peak_time_ns  start_time  start_time_ns  \\\n",
       "0      1.133747e+09  H1  1133747480     875000000  1133747479      625000000   \n",
       "1      1.133139e+09  H1  1133138521     980957031  1133138521      937500000   \n",
       "2      1.131777e+09  H1  1131777198     383789062  1131777196      445312023   \n",
       "3      1.133107e+09  H1  1133106912     958983898  1133106912      937500000   \n",
       "4      1.132660e+09  H1  1132659628     687500000  1132659627      500000000   \n",
       "...             ...  ..         ...           ...         ...            ...   \n",
       "25845  1.137220e+09  L1  1137219636     326172113  1137219636      250000000   \n",
       "25846  1.130257e+09  L1  1130256563      31250000  1130256562      875000000   \n",
       "25847  1.131414e+09  L1  1131413524     687500000  1131413524              0   \n",
       "25848  1.129983e+09  L1  1129982991     312500000  1129982988      750000000   \n",
       "25849  1.132738e+09  L1  1132737675      93750000  1132737674      750000000   \n",
       "\n",
       "       duration  peak_frequency  central_freq    bandwidth       snr  \\\n",
       "0       3.12500       23.161011   3083.450439  6125.699219  12.31222   \n",
       "1       0.12500      262.064606   1576.186646  3022.359619  15.72605   \n",
       "2       3.05469      111.128151    281.727661   546.868347   8.31163   \n",
       "3       0.12500       89.676369    201.923874   319.184143  11.29298   \n",
       "4       2.50000       10.771410   3876.945312  7741.605469   9.74269   \n",
       "...         ...             ...           ...          ...       ...   \n",
       "25845   0.10547     1527.022095   1802.779419  1581.367554  12.79415   \n",
       "25846   0.50000       64.891693     64.202530     8.083960   8.34971   \n",
       "25847   1.00000       65.531433     66.881851     5.131030   7.70147   \n",
       "25848   3.50000       11.519660   3979.047363  7942.870605  14.02844   \n",
       "25849   0.81250       83.005531   2352.000977  4540.329102   8.13509   \n",
       "\n",
       "          amplitude             ml_label  ml_confidence  \n",
       "0      9.112720e-22      Scattered_Light       0.999992  \n",
       "1      2.482060e-22                 Blip       0.999553  \n",
       "2      1.555730e-22                 Blip       0.993591  \n",
       "3      3.454280e-22                 Blip       0.998819  \n",
       "4      1.326820e-19  Low_Frequency_Lines       0.984899  \n",
       "...             ...                  ...            ...  \n",
       "25845  5.758980e-22          1400Ripples       0.999278  \n",
       "25846  1.164350e-22           Power_Line       0.999904  \n",
       "25847  9.419780e-23           Power_Line       0.999980  \n",
       "25848  7.782930e-19  Low_Frequency_Lines       0.992579  \n",
       "25849  9.043470e-23            No_Glitch       0.986779  \n",
       "\n",
       "[25850 rows x 14 columns]"
      ]
     },
     "execution_count": 159,
     "metadata": {},
     "output_type": "execute_result"
    }
   ],
   "source": [
    "df = pd.concat([\n",
    "    pd.read_csv('data/H1_O1.csv'),\n",
    "    pd.read_csv('data/L1_O1.csv')\n",
    "])\n",
    "\n",
    "cols = ['event_time', 'ifo', 'peak_time', 'peak_time_ns', 'start_time', 'start_time_ns',\n",
    "        'duration', 'peak_frequency', 'central_freq', 'bandwidth', 'snr', \n",
    "        'amplitude', 'ml_label', 'ml_confidence']\n",
    "df = df[cols]\n",
    "df = df[df['ml_confidence'] >= 0.95]\n",
    "df = df.reset_index().drop('index', axis=1)\n",
    "df"
   ]
  },
  {
   "cell_type": "code",
   "execution_count": 160,
   "id": "dbfbde1f-4b62-4422-b13a-82d63f681b3a",
   "metadata": {
    "tags": []
   },
   "outputs": [
    {
     "name": "stdout",
     "output_type": "stream",
     "text": [
      "<class 'pandas.core.frame.DataFrame'>\n",
      "RangeIndex: 25850 entries, 0 to 25849\n",
      "Data columns (total 14 columns):\n",
      " #   Column          Non-Null Count  Dtype  \n",
      "---  ------          --------------  -----  \n",
      " 0   event_time      25850 non-null  float64\n",
      " 1   ifo             25850 non-null  object \n",
      " 2   peak_time       25850 non-null  int64  \n",
      " 3   peak_time_ns    25850 non-null  int64  \n",
      " 4   start_time      25850 non-null  int64  \n",
      " 5   start_time_ns   25850 non-null  int64  \n",
      " 6   duration        25850 non-null  float64\n",
      " 7   peak_frequency  25850 non-null  float64\n",
      " 8   central_freq    25850 non-null  float64\n",
      " 9   bandwidth       25850 non-null  float64\n",
      " 10  snr             25850 non-null  float64\n",
      " 11  amplitude       25850 non-null  float64\n",
      " 12  ml_label        25850 non-null  object \n",
      " 13  ml_confidence   25850 non-null  float64\n",
      "dtypes: float64(8), int64(4), object(2)\n",
      "memory usage: 2.8+ MB\n"
     ]
    }
   ],
   "source": [
    "df.info()"
   ]
  },
  {
   "cell_type": "code",
   "execution_count": 161,
   "id": "e552e011-e85a-487e-9d7d-408ee0c4b220",
   "metadata": {
    "tags": []
   },
   "outputs": [
    {
     "data": {
      "text/plain": [
       "ml_label\n",
       "Low_Frequency_Lines    6592\n",
       "Low_Frequency_Burst    4823\n",
       "Scattered_Light        3020\n",
       "Blip                   2690\n",
       "Power_Line             1888\n",
       "Scratchy               1673\n",
       "No_Glitch              1173\n",
       "1400Ripples            1159\n",
       "Koi_Fish                768\n",
       "Light_Modulation        484\n",
       "Repeating_Blips         314\n",
       "Whistle                 310\n",
       "Extremely_Loud          275\n",
       "Helix                   241\n",
       "Violin_Mode             125\n",
       "Paired_Doves             80\n",
       "Air_Compressor           77\n",
       "Chirp                    59\n",
       "Tomte                    36\n",
       "Wandering_Line           36\n",
       "None_of_the_Above        25\n",
       "1080Lines                 2\n",
       "Name: count, dtype: int64"
      ]
     },
     "execution_count": 161,
     "metadata": {},
     "output_type": "execute_result"
    }
   ],
   "source": [
    "df.ml_label.value_counts()"
   ]
  },
  {
   "cell_type": "code",
   "execution_count": 162,
   "id": "c2780eaa-0f9d-4ff9-8053-ad45241acbc2",
   "metadata": {
    "tags": []
   },
   "outputs": [
    {
     "data": {
      "text/plain": [
       "(24650, 14)"
      ]
     },
     "execution_count": 162,
     "metadata": {},
     "output_type": "execute_result"
    }
   ],
   "source": [
    "target_labels = [label for label in pd.unique(df.ml_label) if label not in ['None_of_the_Above', '1080Lines', 'No_Glitch']]\n",
    "df = pd.concat([df[df.ml_label == label]\n",
    "                         for label in target_labels])\n",
    "df.shape"
   ]
  },
  {
   "cell_type": "code",
   "execution_count": 163,
   "id": "e812ceea-a3a1-4cf5-9828-a8d97eaf4ef9",
   "metadata": {
    "tags": []
   },
   "outputs": [
    {
     "data": {
      "text/plain": [
       "ml_label\n",
       "Low_Frequency_Lines    6592\n",
       "Low_Frequency_Burst    4823\n",
       "Scattered_Light        3020\n",
       "Blip                   2690\n",
       "Power_Line             1888\n",
       "Scratchy               1673\n",
       "1400Ripples            1159\n",
       "Koi_Fish                768\n",
       "Light_Modulation        484\n",
       "Repeating_Blips         314\n",
       "Whistle                 310\n",
       "Extremely_Loud          275\n",
       "Helix                   241\n",
       "Violin_Mode             125\n",
       "Paired_Doves             80\n",
       "Air_Compressor           77\n",
       "Chirp                    59\n",
       "Tomte                    36\n",
       "Wandering_Line           36\n",
       "Name: count, dtype: int64"
      ]
     },
     "execution_count": 163,
     "metadata": {},
     "output_type": "execute_result"
    }
   ],
   "source": [
    "df.ml_label.value_counts()"
   ]
  },
  {
   "cell_type": "markdown",
   "id": "9213754b-6def-4d98-b7ef-11f927e7f993",
   "metadata": {},
   "source": [
    "# Data prepararing + Feature engineering"
   ]
  },
  {
   "cell_type": "code",
   "execution_count": 164,
   "id": "d9243375-5129-4e15-9c04-cfc491235746",
   "metadata": {
    "tags": []
   },
   "outputs": [
    {
     "name": "stdout",
     "output_type": "stream",
     "text": [
      "CPU times: user 17.6 s, sys: 522 ms, total: 18.1 s\n",
      "Wall time: 17.4 s\n"
     ]
    }
   ],
   "source": [
    "%%time\n",
    "# 创建 ID\n",
    "df.loc[:, 'id'] = df.event_time.map(lambda x: from_gps(x).strftime('g%y%m%d_%H%M%S+')+str(int(from_gps(x).microsecond/1000)).zfill(3))"
   ]
  },
  {
   "cell_type": "code",
   "execution_count": 193,
   "id": "9c0ce6f2-14a0-430c-a0cd-2685ace76f22",
   "metadata": {
    "tags": []
   },
   "outputs": [],
   "source": [
    "# df"
   ]
  },
  {
   "cell_type": "code",
   "execution_count": 165,
   "id": "dcdc388a-4906-4475-b9e3-299b49aa5440",
   "metadata": {
    "tags": []
   },
   "outputs": [
    {
     "name": "stdout",
     "output_type": "stream",
     "text": [
      "CPU times: user 17 s, sys: 480 ms, total: 17.5 s\n",
      "Wall time: 16.9 s\n"
     ]
    }
   ],
   "source": [
    "%%time\n",
    "# 对时间特征处理，取出关键信息\n",
    "df.loc[:, 'peak_time_fullgps'] = df.peak_time + 1e-9*df.peak_time_ns\n",
    "df.loc[:, 'start_time_fullgps'] = df.start_time + 1e-9*df.start_time_ns\n",
    "df.loc[:, 'peak_time'] = df.peak_time_fullgps.map(lambda x: from_gps(x))\n",
    "df.loc[:, 'start_time'] = df.start_time_fullgps.map(lambda x: from_gps(x))\n",
    "\n",
    "for target_time in ['peak_time', 'start_time']:\n",
    "    df.loc[:, f'{target_time}_day'] = df[f'{target_time}'].dt.day\n",
    "    df.loc[:, f'{target_time}_year'] = df[f'{target_time}'].dt.year\n",
    "    df.loc[:, f'{target_time}_month'] = df[f'{target_time}'].dt.month\n",
    "    df.loc[:, f'{target_time}_hour'] = df[f'{target_time}'].dt.hour\n",
    "    df.loc[:, f'{target_time}_minute'] = df[f'{target_time}'].dt.minute\n",
    "    df.loc[:, f'{target_time}_second'] = df[f'{target_time}'].dt.second\n",
    "    df.loc[:, f'{target_time}_microsecond'] = df[f'{target_time}'].dt.microsecond\n",
    "    df.loc[:, f'{target_time}_day_of_week'] = df[f'{target_time}'].dt.day_of_week\n",
    "    df.loc[:, f'{target_time}_day_of_year'] = df[f'{target_time}'].dt.day_of_year\n",
    "    df.loc[:, f'{target_time}_weekday'] = df[f'{target_time}'].dt.weekday"
   ]
  },
  {
   "cell_type": "code",
   "execution_count": 166,
   "id": "46722da1-c157-4965-a683-0238cb27b07f",
   "metadata": {
    "tags": []
   },
   "outputs": [],
   "source": [
    "# 对标签类别进行编码\n",
    "class_le = LabelEncoder()\n",
    "df.loc[:, 'ml_label'] = class_le.fit_transform(df['ml_label'].values)\n",
    "df.loc[:, 'label'] = df.ml_label.astype('int')"
   ]
  },
  {
   "cell_type": "code",
   "execution_count": 167,
   "id": "590e6d01-f677-4b19-a408-2e6df2a2b915",
   "metadata": {
    "tags": []
   },
   "outputs": [
    {
     "name": "stdout",
     "output_type": "stream",
     "text": [
      "<class 'pandas.core.frame.DataFrame'>\n",
      "Index: 24650 entries, 0 to 25845\n",
      "Data columns (total 32 columns):\n",
      " #   Column                  Non-Null Count  Dtype  \n",
      "---  ------                  --------------  -----  \n",
      " 0   duration                24650 non-null  float64\n",
      " 1   peak_frequency          24650 non-null  float64\n",
      " 2   central_freq            24650 non-null  float64\n",
      " 3   bandwidth               24650 non-null  float64\n",
      " 4   snr                     24650 non-null  float64\n",
      " 5   amplitude               24650 non-null  float64\n",
      " 6   id                      24650 non-null  object \n",
      " 7   peak_time_fullgps       24650 non-null  float64\n",
      " 8   start_time_fullgps      24650 non-null  float64\n",
      " 9   peak_time_day           24650 non-null  int32  \n",
      " 10  peak_time_year          24650 non-null  int32  \n",
      " 11  peak_time_month         24650 non-null  int32  \n",
      " 12  peak_time_hour          24650 non-null  int32  \n",
      " 13  peak_time_minute        24650 non-null  int32  \n",
      " 14  peak_time_second        24650 non-null  int32  \n",
      " 15  peak_time_microsecond   24650 non-null  int32  \n",
      " 16  peak_time_day_of_week   24650 non-null  int32  \n",
      " 17  peak_time_day_of_year   24650 non-null  int32  \n",
      " 18  peak_time_weekday       24650 non-null  int32  \n",
      " 19  start_time_day          24650 non-null  int32  \n",
      " 20  start_time_year         24650 non-null  int32  \n",
      " 21  start_time_month        24650 non-null  int32  \n",
      " 22  start_time_hour         24650 non-null  int32  \n",
      " 23  start_time_minute       24650 non-null  int32  \n",
      " 24  start_time_second       24650 non-null  int32  \n",
      " 25  start_time_microsecond  24650 non-null  int32  \n",
      " 26  start_time_day_of_week  24650 non-null  int32  \n",
      " 27  start_time_day_of_year  24650 non-null  int32  \n",
      " 28  start_time_weekday      24650 non-null  int32  \n",
      " 29  label                   24650 non-null  int64  \n",
      " 30  ifo_H1                  24650 non-null  float64\n",
      " 31  ifo_L1                  24650 non-null  float64\n",
      "dtypes: float64(10), int32(20), int64(1), object(1)\n",
      "memory usage: 4.3+ MB\n"
     ]
    }
   ],
   "source": [
    "# 去掉不需要的特征列；把 ifo 特征进行独热向量编码\n",
    "df = df.drop(['event_time', 'peak_time', 'peak_time_ns', 'start_time', 'start_time_ns', 'ml_confidence', 'ml_label'], axis=1)\n",
    "df = pd.concat([df, pd.get_dummies(df[['ifo']], dtype='float')], axis=1).drop('ifo', axis=1)\n",
    "df.info()"
   ]
  },
  {
   "cell_type": "markdown",
   "id": "d07533c1-a625-4e57-b698-b96b90484c51",
   "metadata": {},
   "source": [
    "# Train data + test data"
   ]
  },
  {
   "cell_type": "code",
   "execution_count": 18,
   "id": "770ebfb3-3b63-4900-b6f0-7b11e32280f4",
   "metadata": {
    "tags": []
   },
   "outputs": [
    {
     "data": {
      "text/plain": [
       "((17255, 30), (17255,), (7395, 30), (7395,))"
      ]
     },
     "execution_count": 18,
     "metadata": {},
     "output_type": "execute_result"
    }
   ],
   "source": [
    "columns = df.drop(['label', 'id'], axis=1).columns.tolist()\n",
    "X, y = df.drop(['label', 'id'], axis=1), df.label\n",
    "\n",
    "# 切分训练集和测试集\n",
    "X_train, X_test, y_train, y_test = \\\n",
    "    train_test_split(X, y, test_size=0.3, random_state=0)\n",
    "X_train.shape, y_train.shape, X_test.shape, y_test.shape"
   ]
  },
  {
   "cell_type": "code",
   "execution_count": 86,
   "id": "3d22dc7e-ada2-402c-adb2-5d840e8fe253",
   "metadata": {
    "tags": []
   },
   "outputs": [],
   "source": [
    "# 标准化\n",
    "stdsc = StandardScaler()\n",
    "X_train_std = stdsc.fit_transform(X_train)\n",
    "X_test_std = stdsc.transform(X_test)"
   ]
  },
  {
   "cell_type": "markdown",
   "id": "9056124a-618a-44f9-b5b7-f09180d17f47",
   "metadata": {},
   "source": [
    "# Model: Logistic Regression"
   ]
  },
  {
   "cell_type": "code",
   "execution_count": 20,
   "id": "0bc93ab4-6216-4310-9a1c-eaeedcbad564",
   "metadata": {
    "tags": []
   },
   "outputs": [
    {
     "name": "stdout",
     "output_type": "stream",
     "text": [
      "Training accuracy: 0.7035641842944074\n",
      "Test accuracy: 0.7207572684246112\n"
     ]
    }
   ],
   "source": [
    "# 小试牛刀\n",
    "lr = LogisticRegression(penalty='l1', solver='liblinear', C=0.1)\n",
    "lr.fit(X_train_std, y_train)\n",
    "print('Training accuracy:', lr.score(X_train_std, y_train))\n",
    "print('Test accuracy:', lr.score(X_test_std, y_test))"
   ]
  },
  {
   "cell_type": "markdown",
   "id": "3cb262f9-4377-4b11-832e-bd8bc7af07bb",
   "metadata": {},
   "source": [
    "# Model: Random Forest"
   ]
  },
  {
   "cell_type": "code",
   "execution_count": 22,
   "id": "997572f5-176d-4c71-8f11-6631f8c0961f",
   "metadata": {},
   "outputs": [
    {
     "name": "stdout",
     "output_type": "stream",
     "text": [
      "CPU times: user 15min 17s, sys: 17.4 s, total: 15min 35s\n",
      "Wall time: 41.2 s\n"
     ]
    },
    {
     "data": {
      "text/html": [
       "<style>#sk-container-id-1 {color: black;}#sk-container-id-1 pre{padding: 0;}#sk-container-id-1 div.sk-toggleable {background-color: white;}#sk-container-id-1 label.sk-toggleable__label {cursor: pointer;display: block;width: 100%;margin-bottom: 0;padding: 0.3em;box-sizing: border-box;text-align: center;}#sk-container-id-1 label.sk-toggleable__label-arrow:before {content: \"▸\";float: left;margin-right: 0.25em;color: #696969;}#sk-container-id-1 label.sk-toggleable__label-arrow:hover:before {color: black;}#sk-container-id-1 div.sk-estimator:hover label.sk-toggleable__label-arrow:before {color: black;}#sk-container-id-1 div.sk-toggleable__content {max-height: 0;max-width: 0;overflow: hidden;text-align: left;background-color: #f0f8ff;}#sk-container-id-1 div.sk-toggleable__content pre {margin: 0.2em;color: black;border-radius: 0.25em;background-color: #f0f8ff;}#sk-container-id-1 input.sk-toggleable__control:checked~div.sk-toggleable__content {max-height: 200px;max-width: 100%;overflow: auto;}#sk-container-id-1 input.sk-toggleable__control:checked~label.sk-toggleable__label-arrow:before {content: \"▾\";}#sk-container-id-1 div.sk-estimator input.sk-toggleable__control:checked~label.sk-toggleable__label {background-color: #d4ebff;}#sk-container-id-1 div.sk-label input.sk-toggleable__control:checked~label.sk-toggleable__label {background-color: #d4ebff;}#sk-container-id-1 input.sk-hidden--visually {border: 0;clip: rect(1px 1px 1px 1px);clip: rect(1px, 1px, 1px, 1px);height: 1px;margin: -1px;overflow: hidden;padding: 0;position: absolute;width: 1px;}#sk-container-id-1 div.sk-estimator {font-family: monospace;background-color: #f0f8ff;border: 1px dotted black;border-radius: 0.25em;box-sizing: border-box;margin-bottom: 0.5em;}#sk-container-id-1 div.sk-estimator:hover {background-color: #d4ebff;}#sk-container-id-1 div.sk-parallel-item::after {content: \"\";width: 100%;border-bottom: 1px solid gray;flex-grow: 1;}#sk-container-id-1 div.sk-label:hover label.sk-toggleable__label {background-color: #d4ebff;}#sk-container-id-1 div.sk-serial::before {content: \"\";position: absolute;border-left: 1px solid gray;box-sizing: border-box;top: 0;bottom: 0;left: 50%;z-index: 0;}#sk-container-id-1 div.sk-serial {display: flex;flex-direction: column;align-items: center;background-color: white;padding-right: 0.2em;padding-left: 0.2em;position: relative;}#sk-container-id-1 div.sk-item {position: relative;z-index: 1;}#sk-container-id-1 div.sk-parallel {display: flex;align-items: stretch;justify-content: center;background-color: white;position: relative;}#sk-container-id-1 div.sk-item::before, #sk-container-id-1 div.sk-parallel-item::before {content: \"\";position: absolute;border-left: 1px solid gray;box-sizing: border-box;top: 0;bottom: 0;left: 50%;z-index: -1;}#sk-container-id-1 div.sk-parallel-item {display: flex;flex-direction: column;z-index: 1;position: relative;background-color: white;}#sk-container-id-1 div.sk-parallel-item:first-child::after {align-self: flex-end;width: 50%;}#sk-container-id-1 div.sk-parallel-item:last-child::after {align-self: flex-start;width: 50%;}#sk-container-id-1 div.sk-parallel-item:only-child::after {width: 0;}#sk-container-id-1 div.sk-dashed-wrapped {border: 1px dashed gray;margin: 0 0.4em 0.5em 0.4em;box-sizing: border-box;padding-bottom: 0.4em;background-color: white;}#sk-container-id-1 div.sk-label label {font-family: monospace;font-weight: bold;display: inline-block;line-height: 1.2em;}#sk-container-id-1 div.sk-label-container {text-align: center;}#sk-container-id-1 div.sk-container {/* jupyter's `normalize.less` sets `[hidden] { display: none; }` but bootstrap.min.css set `[hidden] { display: none !important; }` so we also need the `!important` here to be able to override the default hidden behavior on the sphinx rendered scikit-learn.org. See: https://github.com/scikit-learn/scikit-learn/issues/21755 */display: inline-block !important;position: relative;}#sk-container-id-1 div.sk-text-repr-fallback {display: none;}</style><div id=\"sk-container-id-1\" class=\"sk-top-container\"><div class=\"sk-text-repr-fallback\"><pre>RandomForestClassifier(n_estimators=10000, n_jobs=-1, random_state=0)</pre><b>In a Jupyter environment, please rerun this cell to show the HTML representation or trust the notebook. <br />On GitHub, the HTML representation is unable to render, please try loading this page with nbviewer.org.</b></div><div class=\"sk-container\" hidden><div class=\"sk-item\"><div class=\"sk-estimator sk-toggleable\"><input class=\"sk-toggleable__control sk-hidden--visually\" id=\"sk-estimator-id-1\" type=\"checkbox\" checked><label for=\"sk-estimator-id-1\" class=\"sk-toggleable__label sk-toggleable__label-arrow\">RandomForestClassifier</label><div class=\"sk-toggleable__content\"><pre>RandomForestClassifier(n_estimators=10000, n_jobs=-1, random_state=0)</pre></div></div></div></div></div>"
      ],
      "text/plain": [
       "RandomForestClassifier(n_estimators=10000, n_jobs=-1, random_state=0)"
      ]
     },
     "execution_count": 22,
     "metadata": {},
     "output_type": "execute_result"
    }
   ],
   "source": [
    "%%time\n",
    "# 随机森林玩一下！看看特征的重要性\n",
    "forest = RandomForestClassifier(n_estimators=10000,\n",
    "                                random_state=0,\n",
    "                                n_jobs=-1)\n",
    "forest.fit(X_train_std, y_train)"
   ]
  },
  {
   "cell_type": "code",
   "execution_count": 23,
   "id": "f38111d0-a264-41b6-93b8-3515372d067e",
   "metadata": {
    "tags": []
   },
   "outputs": [
    {
     "name": "stdout",
     "output_type": "stream",
     "text": [
      "Training accuracy: 1.0\n",
      "Test accuracy: 0.9245436105476673\n"
     ]
    }
   ],
   "source": [
    "# 准确率直接干翻逻辑回归！但是显然过拟合严重。。。\n",
    "print('Training accuracy:', forest.score(X_train_std, y_train))\n",
    "print('Test accuracy:', forest.score(X_test_std, y_test))"
   ]
  },
  {
   "cell_type": "code",
   "execution_count": 24,
   "id": "62497b1e-4550-4540-9fd5-21420d3a5982",
   "metadata": {},
   "outputs": [
    {
     "name": "stdout",
     "output_type": "stream",
     "text": [
      " 1) peak_frequency                 0.251434\n",
      " 2) amplitude                      0.142417\n",
      " 3) duration                       0.100266\n",
      " 4) snr                            0.084439\n",
      " 5) start_time_fullgps             0.050502\n",
      " 6) peak_time_fullgps              0.050324\n",
      " 7) central_freq                   0.041764\n",
      " 8) bandwidth                      0.041271\n",
      " 9) peak_time_day_of_year          0.022656\n",
      "10) start_time_day_of_year         0.022510\n",
      "11) ifo_H1                         0.018443\n",
      "12) ifo_L1                         0.018280\n",
      "13) peak_time_day                  0.013818\n",
      "14) start_time_day                 0.013731\n",
      "15) peak_time_microsecond          0.013493\n",
      "16) start_time_hour                0.011752\n",
      "17) peak_time_hour                 0.011705\n",
      "18) peak_time_minute               0.010069\n",
      "19) start_time_minute              0.010039\n",
      "20) peak_time_second               0.009586\n",
      "21) start_time_second              0.009572\n",
      "22) start_time_microsecond         0.008237\n",
      "23) start_time_day_of_week         0.006520\n",
      "24) peak_time_day_of_week          0.006514\n",
      "25) peak_time_weekday              0.006504\n",
      "26) start_time_weekday             0.006482\n",
      "27) peak_time_month                0.006303\n",
      "28) start_time_month               0.006166\n",
      "29) peak_time_year                 0.002625\n",
      "30) start_time_year                0.002579\n"
     ]
    },
    {
     "data": {
      "image/png": "[encoded data removed]",
      "text/plain": [
       "<Figure size 640x480 with 1 Axes>"
      ]
     },
     "metadata": {},
     "output_type": "display_data"
    }
   ],
   "source": [
    "feat_labels = columns\n",
    "importances = forest.feature_importances_\n",
    "\n",
    "indices = np.argsort(importances)[::-1]\n",
    "\n",
    "for f in range(X_train.shape[1]):\n",
    "    print(\"%2d) %-*s %f\" % (f + 1, 30, \n",
    "                            feat_labels[indices[f]], \n",
    "                            importances[indices[f]]))\n",
    "    \n",
    "plt.title('Feature Importances')\n",
    "plt.bar(range(X_train.shape[1]), \n",
    "        importances[indices],\n",
    "        color='lightblue', \n",
    "        align='center')\n",
    "\n",
    "plt.xticks(range(X_train.shape[1]), \n",
    "           np.array(feat_labels)[indices], rotation=90)\n",
    "plt.xlim([-1, X_train.shape[1]])\n",
    "plt.tight_layout()\n",
    "plt.show()"
   ]
  },
  {
   "cell_type": "code",
   "execution_count": 25,
   "id": "3830c3f4-b218-45ea-9eb0-0c919836a09d",
   "metadata": {
    "tags": []
   },
   "outputs": [
    {
     "data": {
      "text/plain": [
       "(17255, 8)"
      ]
     },
     "execution_count": 25,
     "metadata": {},
     "output_type": "execute_result"
    }
   ],
   "source": [
    "# 挑选出明显重要性强的 8 个特征\n",
    "sfm = SelectFromModel(forest, threshold=0.03, prefit=True)\n",
    "X_train_std_selected = sfm.transform(X_train_std)\n",
    "X_test_std_selected = sfm.transform(X_test_std)\n",
    "\n",
    "X_train_std_selected.shape"
   ]
  },
  {
   "cell_type": "code",
   "execution_count": 140,
   "id": "d7fdefbd-d441-4b91-b5af-3c5e0b8dad8a",
   "metadata": {
    "tags": []
   },
   "outputs": [
    {
     "name": "stdout",
     "output_type": "stream",
     "text": [
      "CPU times: user 13min 44s, sys: 15.6 s, total: 14min\n",
      "Wall time: 41.2 s\n"
     ]
    },
    {
     "data": {
      "text/html": [
       "<style>#sk-container-id-8 {color: black;}#sk-container-id-8 pre{padding: 0;}#sk-container-id-8 div.sk-toggleable {background-color: white;}#sk-container-id-8 label.sk-toggleable__label {cursor: pointer;display: block;width: 100%;margin-bottom: 0;padding: 0.3em;box-sizing: border-box;text-align: center;}#sk-container-id-8 label.sk-toggleable__label-arrow:before {content: \"▸\";float: left;margin-right: 0.25em;color: #696969;}#sk-container-id-8 label.sk-toggleable__label-arrow:hover:before {color: black;}#sk-container-id-8 div.sk-estimator:hover label.sk-toggleable__label-arrow:before {color: black;}#sk-container-id-8 div.sk-toggleable__content {max-height: 0;max-width: 0;overflow: hidden;text-align: left;background-color: #f0f8ff;}#sk-container-id-8 div.sk-toggleable__content pre {margin: 0.2em;color: black;border-radius: 0.25em;background-color: #f0f8ff;}#sk-container-id-8 input.sk-toggleable__control:checked~div.sk-toggleable__content {max-height: 200px;max-width: 100%;overflow: auto;}#sk-container-id-8 input.sk-toggleable__control:checked~label.sk-toggleable__label-arrow:before {content: \"▾\";}#sk-container-id-8 div.sk-estimator input.sk-toggleable__control:checked~label.sk-toggleable__label {background-color: #d4ebff;}#sk-container-id-8 div.sk-label input.sk-toggleable__control:checked~label.sk-toggleable__label {background-color: #d4ebff;}#sk-container-id-8 input.sk-hidden--visually {border: 0;clip: rect(1px 1px 1px 1px);clip: rect(1px, 1px, 1px, 1px);height: 1px;margin: -1px;overflow: hidden;padding: 0;position: absolute;width: 1px;}#sk-container-id-8 div.sk-estimator {font-family: monospace;background-color: #f0f8ff;border: 1px dotted black;border-radius: 0.25em;box-sizing: border-box;margin-bottom: 0.5em;}#sk-container-id-8 div.sk-estimator:hover {background-color: #d4ebff;}#sk-container-id-8 div.sk-parallel-item::after {content: \"\";width: 100%;border-bottom: 1px solid gray;flex-grow: 1;}#sk-container-id-8 div.sk-label:hover label.sk-toggleable__label {background-color: #d4ebff;}#sk-container-id-8 div.sk-serial::before {content: \"\";position: absolute;border-left: 1px solid gray;box-sizing: border-box;top: 0;bottom: 0;left: 50%;z-index: 0;}#sk-container-id-8 div.sk-serial {display: flex;flex-direction: column;align-items: center;background-color: white;padding-right: 0.2em;padding-left: 0.2em;position: relative;}#sk-container-id-8 div.sk-item {position: relative;z-index: 1;}#sk-container-id-8 div.sk-parallel {display: flex;align-items: stretch;justify-content: center;background-color: white;position: relative;}#sk-container-id-8 div.sk-item::before, #sk-container-id-8 div.sk-parallel-item::before {content: \"\";position: absolute;border-left: 1px solid gray;box-sizing: border-box;top: 0;bottom: 0;left: 50%;z-index: -1;}#sk-container-id-8 div.sk-parallel-item {display: flex;flex-direction: column;z-index: 1;position: relative;background-color: white;}#sk-container-id-8 div.sk-parallel-item:first-child::after {align-self: flex-end;width: 50%;}#sk-container-id-8 div.sk-parallel-item:last-child::after {align-self: flex-start;width: 50%;}#sk-container-id-8 div.sk-parallel-item:only-child::after {width: 0;}#sk-container-id-8 div.sk-dashed-wrapped {border: 1px dashed gray;margin: 0 0.4em 0.5em 0.4em;box-sizing: border-box;padding-bottom: 0.4em;background-color: white;}#sk-container-id-8 div.sk-label label {font-family: monospace;font-weight: bold;display: inline-block;line-height: 1.2em;}#sk-container-id-8 div.sk-label-container {text-align: center;}#sk-container-id-8 div.sk-container {/* jupyter's `normalize.less` sets `[hidden] { display: none; }` but bootstrap.min.css set `[hidden] { display: none !important; }` so we also need the `!important` here to be able to override the default hidden behavior on the sphinx rendered scikit-learn.org. See: https://github.com/scikit-learn/scikit-learn/issues/21755 */display: inline-block !important;position: relative;}#sk-container-id-8 div.sk-text-repr-fallback {display: none;}</style><div id=\"sk-container-id-8\" class=\"sk-top-container\"><div class=\"sk-text-repr-fallback\"><pre>RandomForestClassifier(n_estimators=10000, n_jobs=-1, random_state=0)</pre><b>In a Jupyter environment, please rerun this cell to show the HTML representation or trust the notebook. <br />On GitHub, the HTML representation is unable to render, please try loading this page with nbviewer.org.</b></div><div class=\"sk-container\" hidden><div class=\"sk-item\"><div class=\"sk-estimator sk-toggleable\"><input class=\"sk-toggleable__control sk-hidden--visually\" id=\"sk-estimator-id-8\" type=\"checkbox\" checked><label for=\"sk-estimator-id-8\" class=\"sk-toggleable__label sk-toggleable__label-arrow\">RandomForestClassifier</label><div class=\"sk-toggleable__content\"><pre>RandomForestClassifier(n_estimators=10000, n_jobs=-1, random_state=0)</pre></div></div></div></div></div>"
      ],
      "text/plain": [
       "RandomForestClassifier(n_estimators=10000, n_jobs=-1, random_state=0)"
      ]
     },
     "execution_count": 140,
     "metadata": {},
     "output_type": "execute_result"
    }
   ],
   "source": [
    "%%time\n",
    "# 用这 8 个重要性强的特征再重新训练随机森林模型\n",
    "forest_selected = RandomForestClassifier(n_estimators=10000,\n",
    "                                random_state=0,\n",
    "                                n_jobs=-1)\n",
    "forest_selected.fit(X_train_std_selected, y_train)"
   ]
  },
  {
   "cell_type": "code",
   "execution_count": 27,
   "id": "e53545a4-f677-4a3e-a474-5c5170f68c62",
   "metadata": {
    "tags": []
   },
   "outputs": [
    {
     "name": "stdout",
     "output_type": "stream",
     "text": [
      "Training accuracy: 1.0\n",
      "Test accuracy: 0.9225152129817444\n"
     ]
    }
   ],
   "source": [
    "# 结果仅用这 8 个特征训练的模型，性能依旧杠杠的！\n",
    "print('Training accuracy:', forest_selected.score(X_train_std_selected, y_train))\n",
    "print('Test accuracy:', forest_selected.score(X_test_std_selected, y_test))"
   ]
  },
  {
   "cell_type": "code",
   "execution_count": 40,
   "id": "7a510272-00c6-45e4-b8f3-f66a4cd2024d",
   "metadata": {
    "tags": []
   },
   "outputs": [],
   "source": [
    "X_combined_std_selected = np.concatenate([X_train_std_selected, X_test_std_selected])\n",
    "y_combined = np.concatenate([y_train, y_test])"
   ]
  },
  {
   "cell_type": "code",
   "execution_count": 41,
   "id": "6101c06a-725c-46ad-b2dd-8977ad13c934",
   "metadata": {
    "tags": []
   },
   "outputs": [
    {
     "name": "stdout",
     "output_type": "stream",
     "text": [
      "0.9157160243407707\n",
      "CPU times: user 266 ms, sys: 28 s, total: 28.3 s\n",
      "Wall time: 5min 29s\n"
     ]
    }
   ],
   "source": [
    "%%time\n",
    "# 再交叉验证一下\n",
    "shuffle_split = ShuffleSplit(test_size=.5, train_size=.5, n_splits=5)\n",
    "model = RandomForestClassifier(n_estimators=10000, random_state=0,)\n",
    "result = cross_val_score(model, X_combined_std_selected, y_combined, cv=shuffle_split, n_jobs=-1)\n",
    "print(result.mean())"
   ]
  },
  {
   "cell_type": "code",
   "execution_count": 42,
   "id": "3c5eab2f-1171-4ef2-9f45-9b415c6d7f3f",
   "metadata": {
    "tags": []
   },
   "outputs": [
    {
     "name": "stdout",
     "output_type": "stream",
     "text": [
      "0.9214604462474645\n",
      "CPU times: user 426 ms, sys: 26.5 s, total: 26.9 s\n",
      "Wall time: 8min 28s\n"
     ]
    }
   ],
   "source": [
    "%%time\n",
    "# 再交叉验证一下\n",
    "stratified_split = StratifiedKFold(n_splits=5)\n",
    "model = RandomForestClassifier(n_estimators=10000, random_state=0,)\n",
    "result = cross_val_score(model, X_combined_std_selected, y_combined, cv=stratified_split, n_jobs=-1)\n",
    "print(result.mean())"
   ]
  },
  {
   "cell_type": "code",
   "execution_count": null,
   "id": "54db153e-2bd1-4bcb-ab65-0b6a93e4bd39",
   "metadata": {},
   "outputs": [],
   "source": []
  },
  {
   "cell_type": "markdown",
   "id": "b086767c-1051-43d0-8f0a-6a21c03d9d1d",
   "metadata": {},
   "source": [
    "# Model: SVM"
   ]
  },
  {
   "cell_type": "code",
   "execution_count": 43,
   "id": "5aef5aa5-25b8-4770-9cdb-f12a7c56b830",
   "metadata": {
    "tags": []
   },
   "outputs": [
    {
     "name": "stdout",
     "output_type": "stream",
     "text": [
      "Shape of training set: (17255, 8)   shape of test set: (7395, 8)\n"
     ]
    }
   ],
   "source": [
    "# 接下来对 8 个特征下的训练数据，我们就在强大的 SVM 模型下调参，处理一下过拟合问题，看性能是不是还能再提升？\n",
    "print(f\"Shape of training set: {X_train_std_selected.shape}   shape of test set: {X_test_std_selected.shape}\")"
   ]
  },
  {
   "cell_type": "code",
   "execution_count": 44,
   "id": "bdbb1834-b7c4-4f48-b00c-ef1614f8f8b2",
   "metadata": {
    "tags": []
   },
   "outputs": [
    {
     "name": "stderr",
     "output_type": "stream",
     "text": [
      "  0%|          | 0/6 [00:00<?, ?it/s]\n",
      "gamma=0.001:   0%|          | 0/6 [00:00<?, ?it/s]\u001b[A\n",
      "gamma=0.001:  17%|█▋        | 1/6 [00:20<01:40, 20.15s/it]\u001b[A\n",
      "gamma=0.001:  33%|███▎      | 2/6 [00:40<01:21, 20.28s/it]\u001b[A\n",
      "gamma=0.001:  50%|█████     | 3/6 [01:00<01:00, 20.08s/it]\u001b[A\n",
      "gamma=0.001:  67%|██████▋   | 4/6 [01:17<00:37, 18.89s/it]\u001b[A\n",
      "gamma=0.001:  83%|████████▎ | 5/6 [01:31<00:17, 17.12s/it]\u001b[A\n",
      "gamma=0.001: 100%|██████████| 6/6 [01:42<00:00, 17.11s/it]\u001b[A\n",
      " 17%|█▋        | 1/6 [01:42<08:33, 102.68s/it]\n",
      "gamma=0.01:   0%|          | 0/6 [00:00<?, ?it/s]\u001b[A\n",
      "gamma=0.01:  17%|█▋        | 1/6 [00:20<01:41, 20.37s/it]\u001b[A\n",
      "gamma=0.01:  33%|███▎      | 2/6 [00:40<01:20, 20.10s/it]\u001b[A\n",
      "gamma=0.01:  50%|█████     | 3/6 [00:56<00:55, 18.47s/it]\u001b[A\n",
      "gamma=0.01:  67%|██████▋   | 4/6 [01:10<00:33, 16.55s/it]\u001b[A\n",
      "gamma=0.01:  83%|████████▎ | 5/6 [01:21<00:14, 14.42s/it]\u001b[A\n",
      "gamma=0.01: 100%|██████████| 6/6 [01:30<00:00, 15.05s/it]\u001b[A\n",
      " 33%|███▎      | 2/6 [03:12<06:21, 95.40s/it] \n",
      "gamma=0.1:   0%|          | 0/6 [00:00<?, ?it/s]\u001b[A\n",
      "gamma=0.1:  17%|█▋        | 1/6 [00:19<01:39, 19.98s/it]\u001b[A\n",
      "gamma=0.1:  33%|███▎      | 2/6 [00:37<01:13, 18.35s/it]\u001b[A\n",
      "gamma=0.1:  50%|█████     | 3/6 [00:50<00:48, 16.17s/it]\u001b[A\n",
      "gamma=0.1:  67%|██████▋   | 4/6 [01:00<00:27, 13.81s/it]\u001b[A\n",
      "gamma=0.1:  83%|████████▎ | 5/6 [01:09<00:11, 11.77s/it]\u001b[A\n",
      "gamma=0.1: 100%|██████████| 6/6 [01:17<00:00, 12.89s/it]\u001b[A\n",
      " 50%|█████     | 3/6 [04:30<04:21, 87.16s/it]\n",
      "gamma=1:   0%|          | 0/6 [00:00<?, ?it/s]\u001b[A\n",
      "gamma=1:  17%|█▋        | 1/6 [00:19<01:38, 19.66s/it]\u001b[A\n",
      "gamma=1:  33%|███▎      | 2/6 [00:37<01:15, 18.78s/it]\u001b[A\n",
      "gamma=1:  50%|█████     | 3/6 [00:51<00:49, 16.50s/it]\u001b[A\n",
      "gamma=1:  67%|██████▋   | 4/6 [01:02<00:28, 14.32s/it]\u001b[A\n",
      "gamma=1:  83%|████████▎ | 5/6 [01:12<00:12, 12.73s/it]\u001b[A\n",
      "gamma=1: 100%|██████████| 6/6 [01:26<00:00, 14.36s/it]\u001b[A\n",
      " 67%|██████▋   | 4/6 [05:56<02:53, 86.76s/it]\n",
      "gamma=10:   0%|          | 0/6 [00:00<?, ?it/s]\u001b[A\n",
      "gamma=10:  17%|█▋        | 1/6 [00:19<01:38, 19.70s/it]\u001b[A\n",
      "gamma=10:  33%|███▎      | 2/6 [00:45<01:33, 23.43s/it]\u001b[A\n",
      "gamma=10:  50%|█████     | 3/6 [01:15<01:18, 26.12s/it]\u001b[A\n",
      "gamma=10:  67%|██████▋   | 4/6 [01:46<00:56, 28.20s/it]\u001b[A\n",
      "gamma=10:  83%|████████▎ | 5/6 [02:20<00:30, 30.19s/it]\u001b[A\n",
      "gamma=10: 100%|██████████| 6/6 [02:54<00:00, 29.04s/it]\u001b[A\n",
      " 83%|████████▎ | 5/6 [08:50<01:58, 118.31s/it]\n",
      "gamma=100:   0%|          | 0/6 [00:00<?, ?it/s]\u001b[A\n",
      "gamma=100:  17%|█▋        | 1/6 [00:25<02:08, 25.75s/it]\u001b[A\n",
      "gamma=100:  33%|███▎      | 2/6 [01:12<02:31, 37.96s/it]\u001b[A\n",
      "gamma=100:  50%|█████     | 3/6 [02:10<02:22, 47.38s/it]\u001b[A\n",
      "gamma=100:  67%|██████▋   | 4/6 [03:15<01:48, 54.38s/it]\u001b[A\n",
      "gamma=100:  83%|████████▎ | 5/6 [04:24<00:59, 59.39s/it]\u001b[A\n",
      "gamma=100: 100%|██████████| 6/6 [05:33<00:00, 55.55s/it]\u001b[A\n",
      "100%|██████████| 6/6 [14:24<00:00, 144.00s/it]"
     ]
    },
    {
     "name": "stdout",
     "output_type": "stream",
     "text": [
      "best score:  0.8563894523326572\n",
      "best parameters:  {'C': 100, 'gamma': 0.1}\n",
      "CPU times: user 14min 21s, sys: 3.01 s, total: 14min 24s\n",
      "Wall time: 14min 24s\n"
     ]
    },
    {
     "name": "stderr",
     "output_type": "stream",
     "text": [
      "\n"
     ]
    }
   ],
   "source": [
    "%%time\n",
    "best_score = 0\n",
    "\n",
    "for gamma in tqdm([0.001, 0.01, 0.1, 1, 10, 100]):\n",
    "    for C in tqdm([0.001, 0.01, 0.1, 1, 10, 100], desc=f'gamma={gamma}'):\n",
    "        # for each combination of parameters\n",
    "        # train an SVC\n",
    "        svm_selected = SVC(gamma=gamma, C=C)\n",
    "        svm_selected.fit(X_train_std_selected, y_train)\n",
    "        # evaluate the SVC on the test set \n",
    "        score = svm_selected.score(X_test_std_selected, y_test)\n",
    "        # if we got a better score, store the score and parameters\n",
    "        if score > best_score:\n",
    "            best_score = score\n",
    "            best_parameters = {'C': C, 'gamma': gamma}\n",
    "\n",
    "print(\"best score: \", best_score)\n",
    "print(\"best parameters: \", best_parameters)"
   ]
  },
  {
   "cell_type": "code",
   "execution_count": 45,
   "id": "949a46fc-65fc-42ff-ad9c-4325817efd77",
   "metadata": {
    "tags": []
   },
   "outputs": [
    {
     "data": {
      "text/html": [
       "<style>#sk-container-id-3 {color: black;}#sk-container-id-3 pre{padding: 0;}#sk-container-id-3 div.sk-toggleable {background-color: white;}#sk-container-id-3 label.sk-toggleable__label {cursor: pointer;display: block;width: 100%;margin-bottom: 0;padding: 0.3em;box-sizing: border-box;text-align: center;}#sk-container-id-3 label.sk-toggleable__label-arrow:before {content: \"▸\";float: left;margin-right: 0.25em;color: #696969;}#sk-container-id-3 label.sk-toggleable__label-arrow:hover:before {color: black;}#sk-container-id-3 div.sk-estimator:hover label.sk-toggleable__label-arrow:before {color: black;}#sk-container-id-3 div.sk-toggleable__content {max-height: 0;max-width: 0;overflow: hidden;text-align: left;background-color: #f0f8ff;}#sk-container-id-3 div.sk-toggleable__content pre {margin: 0.2em;color: black;border-radius: 0.25em;background-color: #f0f8ff;}#sk-container-id-3 input.sk-toggleable__control:checked~div.sk-toggleable__content {max-height: 200px;max-width: 100%;overflow: auto;}#sk-container-id-3 input.sk-toggleable__control:checked~label.sk-toggleable__label-arrow:before {content: \"▾\";}#sk-container-id-3 div.sk-estimator input.sk-toggleable__control:checked~label.sk-toggleable__label {background-color: #d4ebff;}#sk-container-id-3 div.sk-label input.sk-toggleable__control:checked~label.sk-toggleable__label {background-color: #d4ebff;}#sk-container-id-3 input.sk-hidden--visually {border: 0;clip: rect(1px 1px 1px 1px);clip: rect(1px, 1px, 1px, 1px);height: 1px;margin: -1px;overflow: hidden;padding: 0;position: absolute;width: 1px;}#sk-container-id-3 div.sk-estimator {font-family: monospace;background-color: #f0f8ff;border: 1px dotted black;border-radius: 0.25em;box-sizing: border-box;margin-bottom: 0.5em;}#sk-container-id-3 div.sk-estimator:hover {background-color: #d4ebff;}#sk-container-id-3 div.sk-parallel-item::after {content: \"\";width: 100%;border-bottom: 1px solid gray;flex-grow: 1;}#sk-container-id-3 div.sk-label:hover label.sk-toggleable__label {background-color: #d4ebff;}#sk-container-id-3 div.sk-serial::before {content: \"\";position: absolute;border-left: 1px solid gray;box-sizing: border-box;top: 0;bottom: 0;left: 50%;z-index: 0;}#sk-container-id-3 div.sk-serial {display: flex;flex-direction: column;align-items: center;background-color: white;padding-right: 0.2em;padding-left: 0.2em;position: relative;}#sk-container-id-3 div.sk-item {position: relative;z-index: 1;}#sk-container-id-3 div.sk-parallel {display: flex;align-items: stretch;justify-content: center;background-color: white;position: relative;}#sk-container-id-3 div.sk-item::before, #sk-container-id-3 div.sk-parallel-item::before {content: \"\";position: absolute;border-left: 1px solid gray;box-sizing: border-box;top: 0;bottom: 0;left: 50%;z-index: -1;}#sk-container-id-3 div.sk-parallel-item {display: flex;flex-direction: column;z-index: 1;position: relative;background-color: white;}#sk-container-id-3 div.sk-parallel-item:first-child::after {align-self: flex-end;width: 50%;}#sk-container-id-3 div.sk-parallel-item:last-child::after {align-self: flex-start;width: 50%;}#sk-container-id-3 div.sk-parallel-item:only-child::after {width: 0;}#sk-container-id-3 div.sk-dashed-wrapped {border: 1px dashed gray;margin: 0 0.4em 0.5em 0.4em;box-sizing: border-box;padding-bottom: 0.4em;background-color: white;}#sk-container-id-3 div.sk-label label {font-family: monospace;font-weight: bold;display: inline-block;line-height: 1.2em;}#sk-container-id-3 div.sk-label-container {text-align: center;}#sk-container-id-3 div.sk-container {/* jupyter's `normalize.less` sets `[hidden] { display: none; }` but bootstrap.min.css set `[hidden] { display: none !important; }` so we also need the `!important` here to be able to override the default hidden behavior on the sphinx rendered scikit-learn.org. See: https://github.com/scikit-learn/scikit-learn/issues/21755 */display: inline-block !important;position: relative;}#sk-container-id-3 div.sk-text-repr-fallback {display: none;}</style><div id=\"sk-container-id-3\" class=\"sk-top-container\"><div class=\"sk-text-repr-fallback\"><pre>SVC(C=100, gamma=0.1)</pre><b>In a Jupyter environment, please rerun this cell to show the HTML representation or trust the notebook. <br />On GitHub, the HTML representation is unable to render, please try loading this page with nbviewer.org.</b></div><div class=\"sk-container\" hidden><div class=\"sk-item\"><div class=\"sk-estimator sk-toggleable\"><input class=\"sk-toggleable__control sk-hidden--visually\" id=\"sk-estimator-id-3\" type=\"checkbox\" checked><label for=\"sk-estimator-id-3\" class=\"sk-toggleable__label sk-toggleable__label-arrow\">SVC</label><div class=\"sk-toggleable__content\"><pre>SVC(C=100, gamma=0.1)</pre></div></div></div></div></div>"
      ],
      "text/plain": [
       "SVC(C=100, gamma=0.1)"
      ]
     },
     "execution_count": 45,
     "metadata": {},
     "output_type": "execute_result"
    }
   ],
   "source": [
    "svm_selected = SVC(**best_parameters)\n",
    "svm_selected.fit(X_train_std_selected, y_train)"
   ]
  },
  {
   "cell_type": "code",
   "execution_count": 46,
   "id": "c2465ec0-fce1-4702-b778-39c03584c546",
   "metadata": {
    "tags": []
   },
   "outputs": [
    {
     "name": "stdout",
     "output_type": "stream",
     "text": [
      "Training accuracy: 0.866067806432918\n",
      "Test accuracy: 0.8563894523326572\n"
     ]
    }
   ],
   "source": [
    "print('Training accuracy:', svm_selected.score(X_train_std_selected, y_train))\n",
    "print('Test accuracy:', svm_selected.score(X_test_std_selected, y_test))"
   ]
  },
  {
   "cell_type": "markdown",
   "id": "e5ad70a1-67c0-4061-b5d0-7892cf98fa2a",
   "metadata": {},
   "source": [
    "# Test on O2"
   ]
  },
  {
   "cell_type": "code",
   "execution_count": 49,
   "id": "49e1423f-a0aa-4827-89d4-ac57302ce6bf",
   "metadata": {
    "tags": []
   },
   "outputs": [],
   "source": [
    "# !wget https://zenodo.org/records/5649212/files/H1_O2.csv -P data/\n",
    "# !wget https://zenodo.org/records/5649212/files/L1_O2.csv -P data/"
   ]
  },
  {
   "cell_type": "code",
   "execution_count": 168,
   "id": "488834b6-f424-4461-95ec-8ce654ccf3b1",
   "metadata": {
    "tags": []
   },
   "outputs": [
    {
     "data": {
      "text/html": [
       "<div>\n",
       "<style scoped>\n",
       "    .dataframe tbody tr th:only-of-type {\n",
       "        vertical-align: middle;\n",
       "    }\n",
       "\n",
       "    .dataframe tbody tr th {\n",
       "        vertical-align: top;\n",
       "    }\n",
       "\n",
       "    .dataframe thead th {\n",
       "        text-align: right;\n",
       "    }\n",
       "</style>\n",
       "<table border=\"1\" class=\"dataframe\">\n",
       "  <thead>\n",
       "    <tr style=\"text-align: right;\">\n",
       "      <th></th>\n",
       "      <th>event_time</th>\n",
       "      <th>ifo</th>\n",
       "      <th>peak_time</th>\n",
       "      <th>peak_time_ns</th>\n",
       "      <th>start_time</th>\n",
       "      <th>start_time_ns</th>\n",
       "      <th>duration</th>\n",
       "      <th>peak_frequency</th>\n",
       "      <th>central_freq</th>\n",
       "      <th>bandwidth</th>\n",
       "      <th>snr</th>\n",
       "      <th>amplitude</th>\n",
       "      <th>ml_label</th>\n",
       "      <th>ml_confidence</th>\n",
       "    </tr>\n",
       "  </thead>\n",
       "  <tbody>\n",
       "    <tr>\n",
       "      <th>0</th>\n",
       "      <td>1.165768e+09</td>\n",
       "      <td>H1</td>\n",
       "      <td>1165768097</td>\n",
       "      <td>644531011</td>\n",
       "      <td>1165768097</td>\n",
       "      <td>570312023</td>\n",
       "      <td>0.08594</td>\n",
       "      <td>1096.148560</td>\n",
       "      <td>1083.121948</td>\n",
       "      <td>57.869942</td>\n",
       "      <td>7.53510</td>\n",
       "      <td>1.367110e-22</td>\n",
       "      <td>1080Lines</td>\n",
       "      <td>0.995903</td>\n",
       "    </tr>\n",
       "    <tr>\n",
       "      <th>1</th>\n",
       "      <td>1.164905e+09</td>\n",
       "      <td>H1</td>\n",
       "      <td>1164905171</td>\n",
       "      <td>410156011</td>\n",
       "      <td>1164905171</td>\n",
       "      <td>367187023</td>\n",
       "      <td>0.06250</td>\n",
       "      <td>1075.608765</td>\n",
       "      <td>1145.550537</td>\n",
       "      <td>268.463440</td>\n",
       "      <td>8.44360</td>\n",
       "      <td>1.611410e-22</td>\n",
       "      <td>1080Lines</td>\n",
       "      <td>0.999650</td>\n",
       "    </tr>\n",
       "    <tr>\n",
       "      <th>2</th>\n",
       "      <td>1.168366e+09</td>\n",
       "      <td>H1</td>\n",
       "      <td>1168365843</td>\n",
       "      <td>900389909</td>\n",
       "      <td>1168365843</td>\n",
       "      <td>527343034</td>\n",
       "      <td>0.40234</td>\n",
       "      <td>1082.743164</td>\n",
       "      <td>1065.330444</td>\n",
       "      <td>487.726471</td>\n",
       "      <td>9.64410</td>\n",
       "      <td>2.413800e-22</td>\n",
       "      <td>1080Lines</td>\n",
       "      <td>1.000000</td>\n",
       "    </tr>\n",
       "    <tr>\n",
       "      <th>3</th>\n",
       "      <td>1.165462e+09</td>\n",
       "      <td>H1</td>\n",
       "      <td>1165461901</td>\n",
       "      <td>597656011</td>\n",
       "      <td>1165461901</td>\n",
       "      <td>570312023</td>\n",
       "      <td>0.16406</td>\n",
       "      <td>1096.148560</td>\n",
       "      <td>1093.113159</td>\n",
       "      <td>77.852058</td>\n",
       "      <td>7.80988</td>\n",
       "      <td>1.788780e-22</td>\n",
       "      <td>1080Lines</td>\n",
       "      <td>0.996695</td>\n",
       "    </tr>\n",
       "    <tr>\n",
       "      <th>4</th>\n",
       "      <td>1.166205e+09</td>\n",
       "      <td>H1</td>\n",
       "      <td>1166204777</td>\n",
       "      <td>933593034</td>\n",
       "      <td>1166204777</td>\n",
       "      <td>735351085</td>\n",
       "      <td>0.45215</td>\n",
       "      <td>1096.148560</td>\n",
       "      <td>4480.900879</td>\n",
       "      <td>6939.164062</td>\n",
       "      <td>10.02408</td>\n",
       "      <td>2.387170e-22</td>\n",
       "      <td>1080Lines</td>\n",
       "      <td>0.999990</td>\n",
       "    </tr>\n",
       "    <tr>\n",
       "      <th>...</th>\n",
       "      <td>...</td>\n",
       "      <td>...</td>\n",
       "      <td>...</td>\n",
       "      <td>...</td>\n",
       "      <td>...</td>\n",
       "      <td>...</td>\n",
       "      <td>...</td>\n",
       "      <td>...</td>\n",
       "      <td>...</td>\n",
       "      <td>...</td>\n",
       "      <td>...</td>\n",
       "      <td>...</td>\n",
       "      <td>...</td>\n",
       "      <td>...</td>\n",
       "    </tr>\n",
       "    <tr>\n",
       "      <th>80001</th>\n",
       "      <td>1.168467e+09</td>\n",
       "      <td>L1</td>\n",
       "      <td>1168467437</td>\n",
       "      <td>875000000</td>\n",
       "      <td>1168467437</td>\n",
       "      <td>0</td>\n",
       "      <td>1.50000</td>\n",
       "      <td>15.622150</td>\n",
       "      <td>3085.205811</td>\n",
       "      <td>6147.033203</td>\n",
       "      <td>7.52634</td>\n",
       "      <td>6.186550e-21</td>\n",
       "      <td>Low_Frequency_Lines</td>\n",
       "      <td>0.993277</td>\n",
       "    </tr>\n",
       "    <tr>\n",
       "      <th>80002</th>\n",
       "      <td>1.173242e+09</td>\n",
       "      <td>L1</td>\n",
       "      <td>1173242444</td>\n",
       "      <td>187500000</td>\n",
       "      <td>1173242444</td>\n",
       "      <td>0</td>\n",
       "      <td>1.25000</td>\n",
       "      <td>68.606911</td>\n",
       "      <td>65.339828</td>\n",
       "      <td>68.975723</td>\n",
       "      <td>7.94020</td>\n",
       "      <td>6.658610e-23</td>\n",
       "      <td>Power_Line</td>\n",
       "      <td>0.979834</td>\n",
       "    </tr>\n",
       "    <tr>\n",
       "      <th>80003</th>\n",
       "      <td>1.170262e+09</td>\n",
       "      <td>L1</td>\n",
       "      <td>1170261586</td>\n",
       "      <td>336425065</td>\n",
       "      <td>1170261586</td>\n",
       "      <td>328125000</td>\n",
       "      <td>0.01562</td>\n",
       "      <td>211.476593</td>\n",
       "      <td>458.770447</td>\n",
       "      <td>787.527283</td>\n",
       "      <td>9.08770</td>\n",
       "      <td>4.665710e-23</td>\n",
       "      <td>Blip</td>\n",
       "      <td>0.998494</td>\n",
       "    </tr>\n",
       "    <tr>\n",
       "      <th>80004</th>\n",
       "      <td>1.168568e+09</td>\n",
       "      <td>L1</td>\n",
       "      <td>1168567671</td>\n",
       "      <td>375000000</td>\n",
       "      <td>1168567670</td>\n",
       "      <td>500000000</td>\n",
       "      <td>2.03027</td>\n",
       "      <td>35.723122</td>\n",
       "      <td>3816.616943</td>\n",
       "      <td>7588.744141</td>\n",
       "      <td>13.42574</td>\n",
       "      <td>1.623810e-22</td>\n",
       "      <td>Scattered_Light</td>\n",
       "      <td>0.999996</td>\n",
       "    </tr>\n",
       "    <tr>\n",
       "      <th>80005</th>\n",
       "      <td>1.168860e+09</td>\n",
       "      <td>L1</td>\n",
       "      <td>1168859818</td>\n",
       "      <td>250000000</td>\n",
       "      <td>1168859817</td>\n",
       "      <td>0</td>\n",
       "      <td>2.50000</td>\n",
       "      <td>14.005720</td>\n",
       "      <td>2342.684814</td>\n",
       "      <td>4658.571777</td>\n",
       "      <td>7.87944</td>\n",
       "      <td>8.054930e-20</td>\n",
       "      <td>Low_Frequency_Lines</td>\n",
       "      <td>0.993542</td>\n",
       "    </tr>\n",
       "  </tbody>\n",
       "</table>\n",
       "<p>80006 rows × 14 columns</p>\n",
       "</div>"
      ],
      "text/plain": [
       "         event_time ifo   peak_time  peak_time_ns  start_time  start_time_ns  \\\n",
       "0      1.165768e+09  H1  1165768097     644531011  1165768097      570312023   \n",
       "1      1.164905e+09  H1  1164905171     410156011  1164905171      367187023   \n",
       "2      1.168366e+09  H1  1168365843     900389909  1168365843      527343034   \n",
       "3      1.165462e+09  H1  1165461901     597656011  1165461901      570312023   \n",
       "4      1.166205e+09  H1  1166204777     933593034  1166204777      735351085   \n",
       "...             ...  ..         ...           ...         ...            ...   \n",
       "80001  1.168467e+09  L1  1168467437     875000000  1168467437              0   \n",
       "80002  1.173242e+09  L1  1173242444     187500000  1173242444              0   \n",
       "80003  1.170262e+09  L1  1170261586     336425065  1170261586      328125000   \n",
       "80004  1.168568e+09  L1  1168567671     375000000  1168567670      500000000   \n",
       "80005  1.168860e+09  L1  1168859818     250000000  1168859817              0   \n",
       "\n",
       "       duration  peak_frequency  central_freq    bandwidth       snr  \\\n",
       "0       0.08594     1096.148560   1083.121948    57.869942   7.53510   \n",
       "1       0.06250     1075.608765   1145.550537   268.463440   8.44360   \n",
       "2       0.40234     1082.743164   1065.330444   487.726471   9.64410   \n",
       "3       0.16406     1096.148560   1093.113159    77.852058   7.80988   \n",
       "4       0.45215     1096.148560   4480.900879  6939.164062  10.02408   \n",
       "...         ...             ...           ...          ...       ...   \n",
       "80001   1.50000       15.622150   3085.205811  6147.033203   7.52634   \n",
       "80002   1.25000       68.606911     65.339828    68.975723   7.94020   \n",
       "80003   0.01562      211.476593    458.770447   787.527283   9.08770   \n",
       "80004   2.03027       35.723122   3816.616943  7588.744141  13.42574   \n",
       "80005   2.50000       14.005720   2342.684814  4658.571777   7.87944   \n",
       "\n",
       "          amplitude             ml_label  ml_confidence  \n",
       "0      1.367110e-22            1080Lines       0.995903  \n",
       "1      1.611410e-22            1080Lines       0.999650  \n",
       "2      2.413800e-22            1080Lines       1.000000  \n",
       "3      1.788780e-22            1080Lines       0.996695  \n",
       "4      2.387170e-22            1080Lines       0.999990  \n",
       "...             ...                  ...            ...  \n",
       "80001  6.186550e-21  Low_Frequency_Lines       0.993277  \n",
       "80002  6.658610e-23           Power_Line       0.979834  \n",
       "80003  4.665710e-23                 Blip       0.998494  \n",
       "80004  1.623810e-22      Scattered_Light       0.999996  \n",
       "80005  8.054930e-20  Low_Frequency_Lines       0.993542  \n",
       "\n",
       "[80006 rows x 14 columns]"
      ]
     },
     "execution_count": 168,
     "metadata": {},
     "output_type": "execute_result"
    }
   ],
   "source": [
    "df_O2 = pd.concat([\n",
    "    pd.read_csv('data/H1_O2.csv'),\n",
    "    pd.read_csv('data/L1_O2.csv')\n",
    "])\n",
    "\n",
    "cols = ['event_time', 'ifo', 'peak_time', 'peak_time_ns', 'start_time', 'start_time_ns',\n",
    "        'duration', 'peak_frequency', 'central_freq', 'bandwidth', 'snr', \n",
    "        'amplitude', 'ml_label', 'ml_confidence']\n",
    "df_O2 = df_O2[cols]\n",
    "df_O2 = df_O2[df_O2['ml_confidence'] >= 0.95]\n",
    "df_O2 = df_O2.reset_index().drop('index', axis=1)\n",
    "df_O2"
   ]
  },
  {
   "cell_type": "code",
   "execution_count": 169,
   "id": "2103eb17-3344-43c4-be85-996cde18b147",
   "metadata": {
    "tags": []
   },
   "outputs": [
    {
     "data": {
      "text/plain": [
       "{'1080Lines', 'No_Glitch', 'None_of_the_Above'}"
      ]
     },
     "execution_count": 169,
     "metadata": {},
     "output_type": "execute_result"
    }
   ],
   "source": [
    "set(pd.unique(df_O2.ml_label)) - set(target_labels)  # 除了我们想去掉的，没有额外的新glitch类型"
   ]
  },
  {
   "cell_type": "code",
   "execution_count": 170,
   "id": "6f2f7d73-ea71-48f1-9f39-e9f02e957f00",
   "metadata": {
    "tags": []
   },
   "outputs": [
    {
     "data": {
      "text/plain": [
       "(50810, 14)"
      ]
     },
     "execution_count": 170,
     "metadata": {},
     "output_type": "execute_result"
    }
   ],
   "source": [
    "target_labels_O2 = [label for label in pd.unique(df_O2.ml_label) if label not in ['None_of_the_Above', '1080Lines', 'No_Glitch']]\n",
    "df_O2 = pd.concat([df_O2[df_O2.ml_label == label]\n",
    "                         for label in target_labels_O2])\n",
    "df_O2.shape"
   ]
  },
  {
   "cell_type": "code",
   "execution_count": 171,
   "id": "fdca335d-02f0-4018-a326-2a7acc2c8400",
   "metadata": {
    "tags": []
   },
   "outputs": [
    {
     "data": {
      "text/plain": [
       "ml_label\n",
       "Low_Frequency_Lines    16714\n",
       "Blip                   11122\n",
       "Scattered_Light        10132\n",
       "Koi_Fish                3369\n",
       "Low_Frequency_Burst     2249\n",
       "Whistle                 1551\n",
       "Extremely_Loud          1537\n",
       "Power_Line              1433\n",
       "Scratchy                1094\n",
       "Repeating_Blips          969\n",
       "Tomte                    188\n",
       "1400Ripples              169\n",
       "Violin_Mode              159\n",
       "Light_Modulation          54\n",
       "Wandering_Line            25\n",
       "Helix                     20\n",
       "Paired_Doves              14\n",
       "Air_Compressor            10\n",
       "Chirp                      1\n",
       "Name: count, dtype: int64"
      ]
     },
     "execution_count": 171,
     "metadata": {},
     "output_type": "execute_result"
    }
   ],
   "source": [
    "df_O2.ml_label.value_counts()"
   ]
  },
  {
   "cell_type": "code",
   "execution_count": 172,
   "id": "cb200fc5-3fa4-4dc2-9cdc-5051b26bc10e",
   "metadata": {
    "tags": []
   },
   "outputs": [
    {
     "data": {
      "text/plain": [
       "array(['peak_frequency', 'amplitude', 'duration', 'snr',\n",
       "       'start_time_fullgps', 'peak_time_fullgps', 'central_freq',\n",
       "       'bandwidth'], dtype='<U22')"
      ]
     },
     "execution_count": 172,
     "metadata": {},
     "output_type": "execute_result"
    }
   ],
   "source": [
    "# 只要那 8 个特征即可\n",
    "np.array(feat_labels)[indices[:8]]"
   ]
  },
  {
   "cell_type": "code",
   "execution_count": 173,
   "id": "7a3c4a2d-21bc-4ad8-910a-331434a0b29d",
   "metadata": {
    "tags": []
   },
   "outputs": [
    {
     "name": "stdout",
     "output_type": "stream",
     "text": [
      "CPU times: user 35.9 s, sys: 992 ms, total: 36.9 s\n",
      "Wall time: 35.6 s\n"
     ]
    }
   ],
   "source": [
    "%%time\n",
    "# 创建 ID\n",
    "df_O2.loc[:, 'id'] = df_O2.event_time.map(lambda x: from_gps(x).strftime('g%y%m%d_%H%M%S+')+str(int(from_gps(x).microsecond/1000)).zfill(3))\n",
    "# 对时间特征处理，取出关键信息\n",
    "df_O2.loc[:, 'peak_time_fullgps'] = df_O2.peak_time + 1e-9*df_O2.peak_time_ns\n",
    "df_O2.loc[:, 'start_time_fullgps'] = df_O2.start_time + 1e-9*df_O2.start_time_ns"
   ]
  },
  {
   "cell_type": "code",
   "execution_count": 174,
   "id": "3ffc8fac-2dc7-4c96-ac9d-9b93d327b6b6",
   "metadata": {
    "tags": []
   },
   "outputs": [],
   "source": [
    "# 对标签类别进行编码\n",
    "# Note: 要用上 O1 数据里 fit 出来的 class_le\n",
    "df_O2.loc[:, 'ml_label'] = class_le.fit_transform(df_O2['ml_label'].values)\n",
    "df_O2.loc[:, 'label'] = df_O2.ml_label.astype('int')"
   ]
  },
  {
   "cell_type": "code",
   "execution_count": 175,
   "id": "a9b08211-a9c8-473e-b30e-88ea9cc0306f",
   "metadata": {
    "tags": []
   },
   "outputs": [
    {
     "name": "stdout",
     "output_type": "stream",
     "text": [
      "<class 'pandas.core.frame.DataFrame'>\n",
      "Index: 50810 entries, 7 to 65930\n",
      "Data columns (total 12 columns):\n",
      " #   Column              Non-Null Count  Dtype  \n",
      "---  ------              --------------  -----  \n",
      " 0   duration            50810 non-null  float64\n",
      " 1   peak_frequency      50810 non-null  float64\n",
      " 2   central_freq        50810 non-null  float64\n",
      " 3   bandwidth           50810 non-null  float64\n",
      " 4   snr                 50810 non-null  float64\n",
      " 5   amplitude           50810 non-null  float64\n",
      " 6   id                  50810 non-null  object \n",
      " 7   peak_time_fullgps   50810 non-null  float64\n",
      " 8   start_time_fullgps  50810 non-null  float64\n",
      " 9   label               50810 non-null  int64  \n",
      " 10  ifo_H1              50810 non-null  float64\n",
      " 11  ifo_L1              50810 non-null  float64\n",
      "dtypes: float64(10), int64(1), object(1)\n",
      "memory usage: 5.0+ MB\n"
     ]
    }
   ],
   "source": [
    "# 去掉不需要的特征列；把 ifo 特征进行独热向量编码\n",
    "df_O2 = df_O2.drop(['event_time', 'peak_time', 'peak_time_ns', 'start_time', 'start_time_ns', 'ml_confidence', 'ml_label'], axis=1)\n",
    "df_O2 = pd.concat([df_O2, pd.get_dummies(df_O2[['ifo']], dtype='float')], axis=1).drop('ifo', axis=1)\n",
    "df_O2.info()"
   ]
  },
  {
   "cell_type": "code",
   "execution_count": 137,
   "id": "9254ef3b-a7cf-4415-b43b-65c3fbd90898",
   "metadata": {
    "tags": []
   },
   "outputs": [],
   "source": [
    "X_O2, y_O2 = df_O2[[col for col in df.columns.tolist() if col in np.array(feat_labels)[indices[:8]]]], df_O2.label.values"
   ]
  },
  {
   "cell_type": "code",
   "execution_count": 138,
   "id": "2b10c953-cfc7-4d26-8353-a09eb566d841",
   "metadata": {
    "tags": []
   },
   "outputs": [],
   "source": [
    "# 标准化\n",
    "stdsc = StandardScaler()\n",
    "X_std_O2 = stdsc.fit_transform(X_O2)"
   ]
  },
  {
   "cell_type": "markdown",
   "id": "a1738de2-0495-4ff0-a362-1595edd21dc1",
   "metadata": {},
   "source": [
    "- 果然：”理想很美好，现实很骨感“"
   ]
  },
  {
   "cell_type": "code",
   "execution_count": 141,
   "id": "1001dae3-cb9d-44d0-9d54-a02354e7c871",
   "metadata": {
    "tags": []
   },
   "outputs": [
    {
     "name": "stdout",
     "output_type": "stream",
     "text": [
      "O2 accuracy: 0.5638260185002952\n"
     ]
    }
   ],
   "source": [
    "# 随机森林\n",
    "print('O2 accuracy:', forest_selected.score(X_std_O2, y_O2))"
   ]
  },
  {
   "cell_type": "code",
   "execution_count": 142,
   "id": "6f02c88c-4f32-4649-a568-9a749a166503",
   "metadata": {
    "tags": []
   },
   "outputs": [
    {
     "name": "stdout",
     "output_type": "stream",
     "text": [
      "O2 accuracy: 0.605609132060618\n"
     ]
    }
   ],
   "source": [
    "# SVM\n",
    "print('O2 accuracy:', svm_selected.score(X_std_O2, y_O2))"
   ]
  },
  {
   "cell_type": "code",
   "execution_count": 143,
   "id": "1e104bde-08c5-420f-af23-e61dd1596fcf",
   "metadata": {
    "tags": []
   },
   "outputs": [
    {
     "data": {
      "text/plain": [
       "((35567, 8), (35567,), (15243, 8), (15243,))"
      ]
     },
     "execution_count": 143,
     "metadata": {},
     "output_type": "execute_result"
    }
   ],
   "source": [
    "# 切分训练集和测试集\n",
    "X_train_O2, X_test_O2, y_train_O2, y_test_O2 = \\\n",
    "    train_test_split(X_O2, y_O2, test_size=0.3, random_state=0)\n",
    "X_train_O2.shape, y_train_O2.shape, X_test_O2.shape, y_test_O2.shape"
   ]
  },
  {
   "cell_type": "markdown",
   "id": "ffd28256-a7ce-4eed-8805-b33949b6cb88",
   "metadata": {},
   "source": [
    "- 可能是数据分布差异太大，稍微调整一下O1 和O2 的gps特征，然后分别在 O1 和 O2 上重新训练一波"
   ]
  },
  {
   "cell_type": "code",
   "execution_count": 179,
   "id": "949ace9c-2d92-45e5-9e6b-d0ae560848c0",
   "metadata": {
    "tags": []
   },
   "outputs": [
    {
     "data": {
      "text/plain": [
       "{'amplitude',\n",
       " 'bandwidth',\n",
       " 'central_freq',\n",
       " 'duration',\n",
       " 'peak_frequency',\n",
       " 'peak_start_distance',\n",
       " 'snr'}"
      ]
     },
     "execution_count": 179,
     "metadata": {},
     "output_type": "execute_result"
    }
   ],
   "source": [
    "modified_columns = (set(np.array(feat_labels)[indices[:8]]) | set(['peak_start_distance'])) - set(['peak_time_fullgps', 'start_time_fullgps'])\n",
    "modified_columns\n",
    "# 7个特征来搞事情"
   ]
  },
  {
   "cell_type": "code",
   "execution_count": 180,
   "id": "c297e5e3-0882-4e84-8e35-9d79b4470c4b",
   "metadata": {
    "tags": []
   },
   "outputs": [
    {
     "data": {
      "text/html": [
       "<div>\n",
       "<style scoped>\n",
       "    .dataframe tbody tr th:only-of-type {\n",
       "        vertical-align: middle;\n",
       "    }\n",
       "\n",
       "    .dataframe tbody tr th {\n",
       "        vertical-align: top;\n",
       "    }\n",
       "\n",
       "    .dataframe thead th {\n",
       "        text-align: right;\n",
       "    }\n",
       "</style>\n",
       "<table border=\"1\" class=\"dataframe\">\n",
       "  <thead>\n",
       "    <tr style=\"text-align: right;\">\n",
       "      <th></th>\n",
       "      <th>duration</th>\n",
       "      <th>peak_frequency</th>\n",
       "      <th>central_freq</th>\n",
       "      <th>bandwidth</th>\n",
       "      <th>snr</th>\n",
       "      <th>amplitude</th>\n",
       "      <th>peak_start_distance</th>\n",
       "    </tr>\n",
       "  </thead>\n",
       "  <tbody>\n",
       "    <tr>\n",
       "      <th>0</th>\n",
       "      <td>3.12500</td>\n",
       "      <td>23.161011</td>\n",
       "      <td>3083.450439</td>\n",
       "      <td>6125.699219</td>\n",
       "      <td>12.31222</td>\n",
       "      <td>9.112720e-22</td>\n",
       "      <td>1.250000</td>\n",
       "    </tr>\n",
       "    <tr>\n",
       "      <th>5</th>\n",
       "      <td>1.12500</td>\n",
       "      <td>53.730080</td>\n",
       "      <td>42.504478</td>\n",
       "      <td>28.540449</td>\n",
       "      <td>8.83714</td>\n",
       "      <td>7.523970e-23</td>\n",
       "      <td>0.437500</td>\n",
       "    </tr>\n",
       "    <tr>\n",
       "      <th>10</th>\n",
       "      <td>1.75000</td>\n",
       "      <td>24.363270</td>\n",
       "      <td>3203.047363</td>\n",
       "      <td>6367.409668</td>\n",
       "      <td>11.79201</td>\n",
       "      <td>6.935220e-22</td>\n",
       "      <td>0.937500</td>\n",
       "    </tr>\n",
       "    <tr>\n",
       "      <th>11</th>\n",
       "      <td>1.12500</td>\n",
       "      <td>33.173901</td>\n",
       "      <td>43.625809</td>\n",
       "      <td>42.762009</td>\n",
       "      <td>9.65102</td>\n",
       "      <td>2.106870e-22</td>\n",
       "      <td>0.750000</td>\n",
       "    </tr>\n",
       "    <tr>\n",
       "      <th>13</th>\n",
       "      <td>3.37500</td>\n",
       "      <td>50.289051</td>\n",
       "      <td>2961.414307</td>\n",
       "      <td>5901.543945</td>\n",
       "      <td>20.92308</td>\n",
       "      <td>2.076380e-22</td>\n",
       "      <td>1.187500</td>\n",
       "    </tr>\n",
       "    <tr>\n",
       "      <th>...</th>\n",
       "      <td>...</td>\n",
       "      <td>...</td>\n",
       "      <td>...</td>\n",
       "      <td>...</td>\n",
       "      <td>...</td>\n",
       "      <td>...</td>\n",
       "      <td>...</td>\n",
       "    </tr>\n",
       "    <tr>\n",
       "      <th>25807</th>\n",
       "      <td>0.06641</td>\n",
       "      <td>1527.022095</td>\n",
       "      <td>2087.095215</td>\n",
       "      <td>1224.458984</td>\n",
       "      <td>10.76469</td>\n",
       "      <td>4.844820e-22</td>\n",
       "      <td>0.021484</td>\n",
       "    </tr>\n",
       "    <tr>\n",
       "      <th>25821</th>\n",
       "      <td>0.04688</td>\n",
       "      <td>1527.022095</td>\n",
       "      <td>1756.158569</td>\n",
       "      <td>562.585754</td>\n",
       "      <td>10.50213</td>\n",
       "      <td>5.606110e-22</td>\n",
       "      <td>0.025391</td>\n",
       "    </tr>\n",
       "    <tr>\n",
       "      <th>25823</th>\n",
       "      <td>0.03955</td>\n",
       "      <td>1527.022095</td>\n",
       "      <td>1765.836426</td>\n",
       "      <td>581.941406</td>\n",
       "      <td>9.30373</td>\n",
       "      <td>4.117320e-22</td>\n",
       "      <td>0.014160</td>\n",
       "    </tr>\n",
       "    <tr>\n",
       "      <th>25832</th>\n",
       "      <td>0.04688</td>\n",
       "      <td>1527.022095</td>\n",
       "      <td>1518.905151</td>\n",
       "      <td>81.143478</td>\n",
       "      <td>9.53593</td>\n",
       "      <td>4.382050e-22</td>\n",
       "      <td>0.017578</td>\n",
       "    </tr>\n",
       "    <tr>\n",
       "      <th>25845</th>\n",
       "      <td>0.10547</td>\n",
       "      <td>1527.022095</td>\n",
       "      <td>1802.779419</td>\n",
       "      <td>1581.367554</td>\n",
       "      <td>12.79415</td>\n",
       "      <td>5.758980e-22</td>\n",
       "      <td>0.076172</td>\n",
       "    </tr>\n",
       "  </tbody>\n",
       "</table>\n",
       "<p>24650 rows × 7 columns</p>\n",
       "</div>"
      ],
      "text/plain": [
       "       duration  peak_frequency  central_freq    bandwidth       snr  \\\n",
       "0       3.12500       23.161011   3083.450439  6125.699219  12.31222   \n",
       "5       1.12500       53.730080     42.504478    28.540449   8.83714   \n",
       "10      1.75000       24.363270   3203.047363  6367.409668  11.79201   \n",
       "11      1.12500       33.173901     43.625809    42.762009   9.65102   \n",
       "13      3.37500       50.289051   2961.414307  5901.543945  20.92308   \n",
       "...         ...             ...           ...          ...       ...   \n",
       "25807   0.06641     1527.022095   2087.095215  1224.458984  10.76469   \n",
       "25821   0.04688     1527.022095   1756.158569   562.585754  10.50213   \n",
       "25823   0.03955     1527.022095   1765.836426   581.941406   9.30373   \n",
       "25832   0.04688     1527.022095   1518.905151    81.143478   9.53593   \n",
       "25845   0.10547     1527.022095   1802.779419  1581.367554  12.79415   \n",
       "\n",
       "          amplitude  peak_start_distance  \n",
       "0      9.112720e-22             1.250000  \n",
       "5      7.523970e-23             0.437500  \n",
       "10     6.935220e-22             0.937500  \n",
       "11     2.106870e-22             0.750000  \n",
       "13     2.076380e-22             1.187500  \n",
       "...             ...                  ...  \n",
       "25807  4.844820e-22             0.021484  \n",
       "25821  5.606110e-22             0.025391  \n",
       "25823  4.117320e-22             0.014160  \n",
       "25832  4.382050e-22             0.017578  \n",
       "25845  5.758980e-22             0.076172  \n",
       "\n",
       "[24650 rows x 7 columns]"
      ]
     },
     "execution_count": 180,
     "metadata": {},
     "output_type": "execute_result"
    }
   ],
   "source": [
    "temp = df[[col for col in df.columns.tolist()\n",
    "              if col in np.array(feat_labels)[indices[:8]]]]\n",
    "df.loc[:,'peak_start_distance'] = temp.peak_time_fullgps - temp.start_time_fullgps\n",
    "\n",
    "df_modified = df[[col for col in df.columns.tolist()\n",
    "                  if col in modified_columns]]\n",
    "df_modified"
   ]
  },
  {
   "cell_type": "code",
   "execution_count": 181,
   "id": "8ba91f7e-37c8-4fc3-b29e-6fffd25e99e5",
   "metadata": {
    "tags": []
   },
   "outputs": [
    {
     "data": {
      "text/html": [
       "<div>\n",
       "<style scoped>\n",
       "    .dataframe tbody tr th:only-of-type {\n",
       "        vertical-align: middle;\n",
       "    }\n",
       "\n",
       "    .dataframe tbody tr th {\n",
       "        vertical-align: top;\n",
       "    }\n",
       "\n",
       "    .dataframe thead th {\n",
       "        text-align: right;\n",
       "    }\n",
       "</style>\n",
       "<table border=\"1\" class=\"dataframe\">\n",
       "  <thead>\n",
       "    <tr style=\"text-align: right;\">\n",
       "      <th></th>\n",
       "      <th>duration</th>\n",
       "      <th>peak_frequency</th>\n",
       "      <th>central_freq</th>\n",
       "      <th>bandwidth</th>\n",
       "      <th>snr</th>\n",
       "      <th>amplitude</th>\n",
       "      <th>peak_start_distance</th>\n",
       "    </tr>\n",
       "  </thead>\n",
       "  <tbody>\n",
       "    <tr>\n",
       "      <th>7</th>\n",
       "      <td>0.25000</td>\n",
       "      <td>211.476593</td>\n",
       "      <td>365.147858</td>\n",
       "      <td>645.632141</td>\n",
       "      <td>27.556669</td>\n",
       "      <td>1.619030e-22</td>\n",
       "      <td>0.112793</td>\n",
       "    </tr>\n",
       "    <tr>\n",
       "      <th>9</th>\n",
       "      <td>0.30859</td>\n",
       "      <td>170.653900</td>\n",
       "      <td>708.072815</td>\n",
       "      <td>1347.825195</td>\n",
       "      <td>20.646790</td>\n",
       "      <td>1.161990e-22</td>\n",
       "      <td>0.176758</td>\n",
       "    </tr>\n",
       "    <tr>\n",
       "      <th>10</th>\n",
       "      <td>6.00000</td>\n",
       "      <td>402.439423</td>\n",
       "      <td>3000.409668</td>\n",
       "      <td>5992.298828</td>\n",
       "      <td>9.500670</td>\n",
       "      <td>7.523580e-23</td>\n",
       "      <td>2.400634</td>\n",
       "    </tr>\n",
       "    <tr>\n",
       "      <th>13</th>\n",
       "      <td>0.07520</td>\n",
       "      <td>211.476593</td>\n",
       "      <td>2683.394531</td>\n",
       "      <td>5205.674805</td>\n",
       "      <td>9.551630</td>\n",
       "      <td>5.396630e-23</td>\n",
       "      <td>0.008301</td>\n",
       "    </tr>\n",
       "    <tr>\n",
       "      <th>15</th>\n",
       "      <td>0.08594</td>\n",
       "      <td>111.128151</td>\n",
       "      <td>178.368515</td>\n",
       "      <td>226.723389</td>\n",
       "      <td>8.450540</td>\n",
       "      <td>5.424690e-23</td>\n",
       "      <td>0.073242</td>\n",
       "    </tr>\n",
       "    <tr>\n",
       "      <th>...</th>\n",
       "      <td>...</td>\n",
       "      <td>...</td>\n",
       "      <td>...</td>\n",
       "      <td>...</td>\n",
       "      <td>...</td>\n",
       "      <td>...</td>\n",
       "      <td>...</td>\n",
       "    </tr>\n",
       "    <tr>\n",
       "      <th>55017</th>\n",
       "      <td>0.46289</td>\n",
       "      <td>48.249069</td>\n",
       "      <td>1213.019775</td>\n",
       "      <td>2357.718994</td>\n",
       "      <td>7.716150</td>\n",
       "      <td>7.590440e-23</td>\n",
       "      <td>0.330078</td>\n",
       "    </tr>\n",
       "    <tr>\n",
       "      <th>56670</th>\n",
       "      <td>0.50000</td>\n",
       "      <td>48.836180</td>\n",
       "      <td>49.305050</td>\n",
       "      <td>14.360080</td>\n",
       "      <td>8.428330</td>\n",
       "      <td>7.086710e-23</td>\n",
       "      <td>0.218750</td>\n",
       "    </tr>\n",
       "    <tr>\n",
       "      <th>60916</th>\n",
       "      <td>0.37500</td>\n",
       "      <td>47.974152</td>\n",
       "      <td>47.716240</td>\n",
       "      <td>11.182450</td>\n",
       "      <td>7.534050</td>\n",
       "      <td>6.698290e-23</td>\n",
       "      <td>0.156250</td>\n",
       "    </tr>\n",
       "    <tr>\n",
       "      <th>62350</th>\n",
       "      <td>0.50000</td>\n",
       "      <td>48.836182</td>\n",
       "      <td>3424.374756</td>\n",
       "      <td>6755.920410</td>\n",
       "      <td>7.964590</td>\n",
       "      <td>7.925360e-23</td>\n",
       "      <td>0.343750</td>\n",
       "    </tr>\n",
       "    <tr>\n",
       "      <th>65930</th>\n",
       "      <td>0.10938</td>\n",
       "      <td>90.541160</td>\n",
       "      <td>144.194260</td>\n",
       "      <td>204.138490</td>\n",
       "      <td>8.202260</td>\n",
       "      <td>4.164060e-23</td>\n",
       "      <td>0.072265</td>\n",
       "    </tr>\n",
       "  </tbody>\n",
       "</table>\n",
       "<p>50810 rows × 7 columns</p>\n",
       "</div>"
      ],
      "text/plain": [
       "       duration  peak_frequency  central_freq    bandwidth        snr  \\\n",
       "7       0.25000      211.476593    365.147858   645.632141  27.556669   \n",
       "9       0.30859      170.653900    708.072815  1347.825195  20.646790   \n",
       "10      6.00000      402.439423   3000.409668  5992.298828   9.500670   \n",
       "13      0.07520      211.476593   2683.394531  5205.674805   9.551630   \n",
       "15      0.08594      111.128151    178.368515   226.723389   8.450540   \n",
       "...         ...             ...           ...          ...        ...   \n",
       "55017   0.46289       48.249069   1213.019775  2357.718994   7.716150   \n",
       "56670   0.50000       48.836180     49.305050    14.360080   8.428330   \n",
       "60916   0.37500       47.974152     47.716240    11.182450   7.534050   \n",
       "62350   0.50000       48.836182   3424.374756  6755.920410   7.964590   \n",
       "65930   0.10938       90.541160    144.194260   204.138490   8.202260   \n",
       "\n",
       "          amplitude  peak_start_distance  \n",
       "7      1.619030e-22             0.112793  \n",
       "9      1.161990e-22             0.176758  \n",
       "10     7.523580e-23             2.400634  \n",
       "13     5.396630e-23             0.008301  \n",
       "15     5.424690e-23             0.073242  \n",
       "...             ...                  ...  \n",
       "55017  7.590440e-23             0.330078  \n",
       "56670  7.086710e-23             0.218750  \n",
       "60916  6.698290e-23             0.156250  \n",
       "62350  7.925360e-23             0.343750  \n",
       "65930  4.164060e-23             0.072265  \n",
       "\n",
       "[50810 rows x 7 columns]"
      ]
     },
     "execution_count": 181,
     "metadata": {},
     "output_type": "execute_result"
    }
   ],
   "source": [
    "temp = df_O2[[col for col in df.columns.tolist()\n",
    "              if col in np.array(feat_labels)[indices[:8]]]]\n",
    "df_O2.loc[:,'peak_start_distance'] = temp.peak_time_fullgps - temp.start_time_fullgps\n",
    "df_O2_modified = df_O2[[col for col in df_O2.columns.tolist()\n",
    "                        if col in modified_columns]]\n",
    "df_O2_modified"
   ]
  },
  {
   "cell_type": "code",
   "execution_count": 182,
   "id": "00b109d8-1010-455e-af45-9c7ed8264d01",
   "metadata": {
    "tags": []
   },
   "outputs": [],
   "source": [
    "X_O1, y_O1 = df_modified.values, df.label.values\n",
    "X_O2, y_O2 = df_O2_modified.values, df_O2.label.values"
   ]
  },
  {
   "cell_type": "code",
   "execution_count": 184,
   "id": "86b16797-ef3f-4e4e-9ca0-348ba0383fb1",
   "metadata": {
    "tags": []
   },
   "outputs": [],
   "source": [
    "# 标准化\n",
    "stdsc = StandardScaler()\n",
    "stdsc.fit(np.concatenate([X_O1, X_O2]))  # 大家一起标准化\n",
    "X_std_O1 = stdsc.transform(X_O1)\n",
    "X_std_O2 = stdsc.transform(X_O2)"
   ]
  },
  {
   "cell_type": "code",
   "execution_count": 185,
   "id": "2d5e4e7d-e801-4d34-8954-09969cc224e8",
   "metadata": {
    "tags": []
   },
   "outputs": [
    {
     "name": "stdout",
     "output_type": "stream",
     "text": [
      "CPU times: user 52min 3s, sys: 46.2 s, total: 52min 49s\n",
      "Wall time: 1min 54s\n"
     ]
    },
    {
     "data": {
      "text/html": [
       "<style>#sk-container-id-9 {color: black;}#sk-container-id-9 pre{padding: 0;}#sk-container-id-9 div.sk-toggleable {background-color: white;}#sk-container-id-9 label.sk-toggleable__label {cursor: pointer;display: block;width: 100%;margin-bottom: 0;padding: 0.3em;box-sizing: border-box;text-align: center;}#sk-container-id-9 label.sk-toggleable__label-arrow:before {content: \"▸\";float: left;margin-right: 0.25em;color: #696969;}#sk-container-id-9 label.sk-toggleable__label-arrow:hover:before {color: black;}#sk-container-id-9 div.sk-estimator:hover label.sk-toggleable__label-arrow:before {color: black;}#sk-container-id-9 div.sk-toggleable__content {max-height: 0;max-width: 0;overflow: hidden;text-align: left;background-color: #f0f8ff;}#sk-container-id-9 div.sk-toggleable__content pre {margin: 0.2em;color: black;border-radius: 0.25em;background-color: #f0f8ff;}#sk-container-id-9 input.sk-toggleable__control:checked~div.sk-toggleable__content {max-height: 200px;max-width: 100%;overflow: auto;}#sk-container-id-9 input.sk-toggleable__control:checked~label.sk-toggleable__label-arrow:before {content: \"▾\";}#sk-container-id-9 div.sk-estimator input.sk-toggleable__control:checked~label.sk-toggleable__label {background-color: #d4ebff;}#sk-container-id-9 div.sk-label input.sk-toggleable__control:checked~label.sk-toggleable__label {background-color: #d4ebff;}#sk-container-id-9 input.sk-hidden--visually {border: 0;clip: rect(1px 1px 1px 1px);clip: rect(1px, 1px, 1px, 1px);height: 1px;margin: -1px;overflow: hidden;padding: 0;position: absolute;width: 1px;}#sk-container-id-9 div.sk-estimator {font-family: monospace;background-color: #f0f8ff;border: 1px dotted black;border-radius: 0.25em;box-sizing: border-box;margin-bottom: 0.5em;}#sk-container-id-9 div.sk-estimator:hover {background-color: #d4ebff;}#sk-container-id-9 div.sk-parallel-item::after {content: \"\";width: 100%;border-bottom: 1px solid gray;flex-grow: 1;}#sk-container-id-9 div.sk-label:hover label.sk-toggleable__label {background-color: #d4ebff;}#sk-container-id-9 div.sk-serial::before {content: \"\";position: absolute;border-left: 1px solid gray;box-sizing: border-box;top: 0;bottom: 0;left: 50%;z-index: 0;}#sk-container-id-9 div.sk-serial {display: flex;flex-direction: column;align-items: center;background-color: white;padding-right: 0.2em;padding-left: 0.2em;position: relative;}#sk-container-id-9 div.sk-item {position: relative;z-index: 1;}#sk-container-id-9 div.sk-parallel {display: flex;align-items: stretch;justify-content: center;background-color: white;position: relative;}#sk-container-id-9 div.sk-item::before, #sk-container-id-9 div.sk-parallel-item::before {content: \"\";position: absolute;border-left: 1px solid gray;box-sizing: border-box;top: 0;bottom: 0;left: 50%;z-index: -1;}#sk-container-id-9 div.sk-parallel-item {display: flex;flex-direction: column;z-index: 1;position: relative;background-color: white;}#sk-container-id-9 div.sk-parallel-item:first-child::after {align-self: flex-end;width: 50%;}#sk-container-id-9 div.sk-parallel-item:last-child::after {align-self: flex-start;width: 50%;}#sk-container-id-9 div.sk-parallel-item:only-child::after {width: 0;}#sk-container-id-9 div.sk-dashed-wrapped {border: 1px dashed gray;margin: 0 0.4em 0.5em 0.4em;box-sizing: border-box;padding-bottom: 0.4em;background-color: white;}#sk-container-id-9 div.sk-label label {font-family: monospace;font-weight: bold;display: inline-block;line-height: 1.2em;}#sk-container-id-9 div.sk-label-container {text-align: center;}#sk-container-id-9 div.sk-container {/* jupyter's `normalize.less` sets `[hidden] { display: none; }` but bootstrap.min.css set `[hidden] { display: none !important; }` so we also need the `!important` here to be able to override the default hidden behavior on the sphinx rendered scikit-learn.org. See: https://github.com/scikit-learn/scikit-learn/issues/21755 */display: inline-block !important;position: relative;}#sk-container-id-9 div.sk-text-repr-fallback {display: none;}</style><div id=\"sk-container-id-9\" class=\"sk-top-container\"><div class=\"sk-text-repr-fallback\"><pre>RandomForestClassifier(n_estimators=10000, n_jobs=-1, random_state=0)</pre><b>In a Jupyter environment, please rerun this cell to show the HTML representation or trust the notebook. <br />On GitHub, the HTML representation is unable to render, please try loading this page with nbviewer.org.</b></div><div class=\"sk-container\" hidden><div class=\"sk-item\"><div class=\"sk-estimator sk-toggleable\"><input class=\"sk-toggleable__control sk-hidden--visually\" id=\"sk-estimator-id-9\" type=\"checkbox\" checked><label for=\"sk-estimator-id-9\" class=\"sk-toggleable__label sk-toggleable__label-arrow\">RandomForestClassifier</label><div class=\"sk-toggleable__content\"><pre>RandomForestClassifier(n_estimators=10000, n_jobs=-1, random_state=0)</pre></div></div></div></div></div>"
      ],
      "text/plain": [
       "RandomForestClassifier(n_estimators=10000, n_jobs=-1, random_state=0)"
      ]
     },
     "execution_count": 185,
     "metadata": {},
     "output_type": "execute_result"
    }
   ],
   "source": [
    "%%time\n",
    "# 用这 8 个重要性强的特征再重新训练随机森林模型\n",
    "forest_O1_selected = RandomForestClassifier(n_estimators=10000,\n",
    "                                random_state=0,\n",
    "                                n_jobs=-1)\n",
    "forest_O1_selected.fit(X_std_O1, y_O1)\n",
    "\n",
    "forest_O2_selected = RandomForestClassifier(n_estimators=10000,\n",
    "                                random_state=0,\n",
    "                                n_jobs=-1)\n",
    "forest_O2_selected.fit(X_std_O2, y_O2)"
   ]
  },
  {
   "cell_type": "code",
   "execution_count": 187,
   "id": "e80368c3-2c6b-4a36-b15f-a6559e89fb64",
   "metadata": {
    "tags": []
   },
   "outputs": [
    {
     "name": "stdout",
     "output_type": "stream",
     "text": [
      "Test on O1 accuracy using O1 RF model: 1.0\n",
      "Test on O2 accuracy using O2 RF model: 1.0\n"
     ]
    }
   ],
   "source": [
    "# 随机森林\n",
    "print('Test on O1 accuracy using O1 RF model:', forest_O1_selected.score(X_std_O1, y_O1))\n",
    "print('Test on O2 accuracy using O2 RF model:', forest_O2_selected.score(X_std_O2, y_O2))"
   ]
  },
  {
   "cell_type": "code",
   "execution_count": 188,
   "id": "a8a631c2-8b87-4d5a-823b-8112fa73eb0f",
   "metadata": {
    "tags": []
   },
   "outputs": [
    {
     "name": "stdout",
     "output_type": "stream",
     "text": [
      "Test on O1 accuracy using O2 RF model: 0.7133468559837728\n",
      "Test on O2 accuracy using O1 RF model: 0.8317850816768353\n"
     ]
    }
   ],
   "source": [
    "# 随机森林\n",
    "print('Test on O1 accuracy using O2 RF model:', forest_O2_selected.score(X_std_O1, y_O1))\n",
    "print('Test on O2 accuracy using O1 RF model:', forest_O1_selected.score(X_std_O2, y_O2))"
   ]
  },
  {
   "cell_type": "code",
   "execution_count": 189,
   "id": "0cd1abf4-18f9-4661-b9a1-72914f021afc",
   "metadata": {
    "tags": []
   },
   "outputs": [
    {
     "name": "stdout",
     "output_type": "stream",
     "text": [
      "CPU times: user 40.2 s, sys: 598 ms, total: 40.8 s\n",
      "Wall time: 40.8 s\n"
     ]
    },
    {
     "data": {
      "text/html": [
       "<style>#sk-container-id-10 {color: black;}#sk-container-id-10 pre{padding: 0;}#sk-container-id-10 div.sk-toggleable {background-color: white;}#sk-container-id-10 label.sk-toggleable__label {cursor: pointer;display: block;width: 100%;margin-bottom: 0;padding: 0.3em;box-sizing: border-box;text-align: center;}#sk-container-id-10 label.sk-toggleable__label-arrow:before {content: \"▸\";float: left;margin-right: 0.25em;color: #696969;}#sk-container-id-10 label.sk-toggleable__label-arrow:hover:before {color: black;}#sk-container-id-10 div.sk-estimator:hover label.sk-toggleable__label-arrow:before {color: black;}#sk-container-id-10 div.sk-toggleable__content {max-height: 0;max-width: 0;overflow: hidden;text-align: left;background-color: #f0f8ff;}#sk-container-id-10 div.sk-toggleable__content pre {margin: 0.2em;color: black;border-radius: 0.25em;background-color: #f0f8ff;}#sk-container-id-10 input.sk-toggleable__control:checked~div.sk-toggleable__content {max-height: 200px;max-width: 100%;overflow: auto;}#sk-container-id-10 input.sk-toggleable__control:checked~label.sk-toggleable__label-arrow:before {content: \"▾\";}#sk-container-id-10 div.sk-estimator input.sk-toggleable__control:checked~label.sk-toggleable__label {background-color: #d4ebff;}#sk-container-id-10 div.sk-label input.sk-toggleable__control:checked~label.sk-toggleable__label {background-color: #d4ebff;}#sk-container-id-10 input.sk-hidden--visually {border: 0;clip: rect(1px 1px 1px 1px);clip: rect(1px, 1px, 1px, 1px);height: 1px;margin: -1px;overflow: hidden;padding: 0;position: absolute;width: 1px;}#sk-container-id-10 div.sk-estimator {font-family: monospace;background-color: #f0f8ff;border: 1px dotted black;border-radius: 0.25em;box-sizing: border-box;margin-bottom: 0.5em;}#sk-container-id-10 div.sk-estimator:hover {background-color: #d4ebff;}#sk-container-id-10 div.sk-parallel-item::after {content: \"\";width: 100%;border-bottom: 1px solid gray;flex-grow: 1;}#sk-container-id-10 div.sk-label:hover label.sk-toggleable__label {background-color: #d4ebff;}#sk-container-id-10 div.sk-serial::before {content: \"\";position: absolute;border-left: 1px solid gray;box-sizing: border-box;top: 0;bottom: 0;left: 50%;z-index: 0;}#sk-container-id-10 div.sk-serial {display: flex;flex-direction: column;align-items: center;background-color: white;padding-right: 0.2em;padding-left: 0.2em;position: relative;}#sk-container-id-10 div.sk-item {position: relative;z-index: 1;}#sk-container-id-10 div.sk-parallel {display: flex;align-items: stretch;justify-content: center;background-color: white;position: relative;}#sk-container-id-10 div.sk-item::before, #sk-container-id-10 div.sk-parallel-item::before {content: \"\";position: absolute;border-left: 1px solid gray;box-sizing: border-box;top: 0;bottom: 0;left: 50%;z-index: -1;}#sk-container-id-10 div.sk-parallel-item {display: flex;flex-direction: column;z-index: 1;position: relative;background-color: white;}#sk-container-id-10 div.sk-parallel-item:first-child::after {align-self: flex-end;width: 50%;}#sk-container-id-10 div.sk-parallel-item:last-child::after {align-self: flex-start;width: 50%;}#sk-container-id-10 div.sk-parallel-item:only-child::after {width: 0;}#sk-container-id-10 div.sk-dashed-wrapped {border: 1px dashed gray;margin: 0 0.4em 0.5em 0.4em;box-sizing: border-box;padding-bottom: 0.4em;background-color: white;}#sk-container-id-10 div.sk-label label {font-family: monospace;font-weight: bold;display: inline-block;line-height: 1.2em;}#sk-container-id-10 div.sk-label-container {text-align: center;}#sk-container-id-10 div.sk-container {/* jupyter's `normalize.less` sets `[hidden] { display: none; }` but bootstrap.min.css set `[hidden] { display: none !important; }` so we also need the `!important` here to be able to override the default hidden behavior on the sphinx rendered scikit-learn.org. See: https://github.com/scikit-learn/scikit-learn/issues/21755 */display: inline-block !important;position: relative;}#sk-container-id-10 div.sk-text-repr-fallback {display: none;}</style><div id=\"sk-container-id-10\" class=\"sk-top-container\"><div class=\"sk-text-repr-fallback\"><pre>SVC(C=100, gamma=0.1)</pre><b>In a Jupyter environment, please rerun this cell to show the HTML representation or trust the notebook. <br />On GitHub, the HTML representation is unable to render, please try loading this page with nbviewer.org.</b></div><div class=\"sk-container\" hidden><div class=\"sk-item\"><div class=\"sk-estimator sk-toggleable\"><input class=\"sk-toggleable__control sk-hidden--visually\" id=\"sk-estimator-id-10\" type=\"checkbox\" checked><label for=\"sk-estimator-id-10\" class=\"sk-toggleable__label sk-toggleable__label-arrow\">SVC</label><div class=\"sk-toggleable__content\"><pre>SVC(C=100, gamma=0.1)</pre></div></div></div></div></div>"
      ],
      "text/plain": [
       "SVC(C=100, gamma=0.1)"
      ]
     },
     "execution_count": 189,
     "metadata": {},
     "output_type": "execute_result"
    }
   ],
   "source": [
    "%%time\n",
    "# 用这 8 个重要性强的特征再重新训练SVM模型\n",
    "svm_O1_selected = SVC(**best_parameters)\n",
    "svm_O1_selected.fit(X_std_O1, y_O1)\n",
    "\n",
    "svm_O2_selected = SVC(**best_parameters)\n",
    "svm_O2_selected.fit(X_std_O2, y_O2)"
   ]
  },
  {
   "cell_type": "code",
   "execution_count": 190,
   "id": "f81f813e-02d8-49cc-8c23-2b02728f10b9",
   "metadata": {
    "tags": []
   },
   "outputs": [
    {
     "name": "stdout",
     "output_type": "stream",
     "text": [
      "Test on O1 accuracy using O1 SVM model: 0.8489655172413794\n",
      "Test on O2 accuracy using O2 SVM model: 0.9009643770911238\n"
     ]
    }
   ],
   "source": [
    "# SVM\n",
    "print('Test on O1 accuracy using O1 SVM model:', svm_O1_selected.score(X_std_O1, y_O1))\n",
    "print('Test on O2 accuracy using O2 SVM model:', svm_O2_selected.score(X_std_O2, y_O2))"
   ]
  },
  {
   "cell_type": "code",
   "execution_count": 191,
   "id": "ba58eb04-baff-487a-bca1-741c5d77b039",
   "metadata": {
    "tags": []
   },
   "outputs": [
    {
     "name": "stdout",
     "output_type": "stream",
     "text": [
      "Test on O1 accuracy using O2 SVM model: 0.6979310344827586\n",
      "Test on O2 accuracy using O1 SVM model: 0.8032670734107459\n"
     ]
    }
   ],
   "source": [
    "# SVM\n",
    "print('Test on O1 accuracy using O2 SVM model:', svm_O2_selected.score(X_std_O1, y_O1))\n",
    "print('Test on O2 accuracy using O1 SVM model:', svm_O1_selected.score(X_std_O2, y_O2))"
   ]
  },
  {
   "cell_type": "code",
   "execution_count": null,
   "id": "694b9d93-0041-4edb-888a-eaa4f744d4f7",
   "metadata": {},
   "outputs": [],
   "source": []
  }
 ],
 "metadata": {
  "kernelspec": {
   "display_name": "ICTP-AP",
   "language": "python",
   "name": "ictp-ap"
  },
  "language_info": {
   "codemirror_mode": {
    "name": "ipython",
    "version": 3
   },
   "file_extension": ".py",
   "mimetype": "text/x-python",
   "name": "python",
   "nbconvert_exporter": "python",
   "pygments_lexer": "ipython3",
   "version": "3.10.13"
  }
 },
 "nbformat": 4,
 "nbformat_minor": 5
}
